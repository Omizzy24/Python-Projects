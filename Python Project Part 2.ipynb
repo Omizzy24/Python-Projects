{
 "cells": [
  {
   "cell_type": "code",
   "execution_count": 1,
   "id": "1dc5d3ce",
   "metadata": {},
   "outputs": [],
   "source": [
    "import pandas as pd\n",
    "import numpy as np\n",
    "import matplotlib.pyplot as plt\n",
    "\n",
    "# Multiclass Text Classification\n",
    "from sklearn import metrics\n",
    "from sklearn.model_selection import train_test_split\n",
    "from sklearn.feature_extraction.text import TfidfVectorizer\n",
    "from sklearn.feature_extraction.text import CountVectorizer\n",
    "from sklearn.feature_extraction.text import TfidfTransformer\n",
    "\n",
    "from sklearn import svm\n",
    "from sklearn.svm import LinearSVC\n",
    "\n",
    "# Naive Bayes Classifiers (Bernoulli and Multinomial)\n",
    "from sklearn.naive_bayes import BernoulliNB\n",
    "from sklearn.naive_bayes import MultinomialNB\n",
    "\n",
    "from sklearn.pipeline import Pipeline"
   ]
  },
  {
   "cell_type": "code",
   "execution_count": 2,
   "id": "e54b6b97",
   "metadata": {},
   "outputs": [
    {
     "name": "stderr",
     "output_type": "stream",
     "text": [
      "/var/folders/0s/58tfs8qd0znfdgvyk7n49gs00000gn/T/ipykernel_75325/3445353489.py:1: DtypeWarning: Columns (9,16) have mixed types. Specify dtype option on import or set low_memory=False.\n",
      "  df = pd.read_csv('/Users/omaral-shammary/Downloads/complaints.csv')\n"
     ]
    }
   ],
   "source": [
    "df = pd.read_csv('/Users/omaral-shammary/Downloads/complaints.csv')"
   ]
  },
  {
   "cell_type": "code",
   "execution_count": 3,
   "id": "e15939b3",
   "metadata": {},
   "outputs": [
    {
     "data": {
      "text/plain": [
       "3056182"
      ]
     },
     "execution_count": 3,
     "metadata": {},
     "output_type": "execute_result"
    }
   ],
   "source": [
    "len(df)"
   ]
  },
  {
   "cell_type": "code",
   "execution_count": 4,
   "id": "99ab3535",
   "metadata": {},
   "outputs": [
    {
     "data": {
      "text/plain": [
       "20000"
      ]
     },
     "execution_count": 4,
     "metadata": {},
     "output_type": "execute_result"
    }
   ],
   "source": [
    "# Randomally selected 20,000 samples to test our model\n",
    "df = df.sample(n=20000)\n",
    "len(df)"
   ]
  },
  {
   "cell_type": "code",
   "execution_count": 5,
   "id": "889e5a49",
   "metadata": {},
   "outputs": [
    {
     "data": {
      "text/plain": [
       "(20000, 18)"
      ]
     },
     "execution_count": 5,
     "metadata": {},
     "output_type": "execute_result"
    }
   ],
   "source": [
    "df.shape"
   ]
  },
  {
   "cell_type": "code",
   "execution_count": 6,
   "id": "20140963",
   "metadata": {},
   "outputs": [
    {
     "data": {
      "text/plain": [
       "Index(['Date received', 'Product', 'Sub-product', 'Issue', 'Sub-issue',\n",
       "       'Consumer complaint narrative', 'Company public response', 'Company',\n",
       "       'State', 'ZIP code', 'Tags', 'Consumer consent provided?',\n",
       "       'Submitted via', 'Date sent to company', 'Company response to consumer',\n",
       "       'Timely response?', 'Consumer disputed?', 'Complaint ID'],\n",
       "      dtype='object')"
      ]
     },
     "execution_count": 6,
     "metadata": {},
     "output_type": "execute_result"
    }
   ],
   "source": [
    "df.columns"
   ]
  },
  {
   "cell_type": "code",
   "execution_count": 7,
   "id": "d80722c6",
   "metadata": {},
   "outputs": [],
   "source": [
    "col = ['Product', 'Consumer complaint narrative', 'ZIP code', 'Company', 'Company public response']\n",
    "df = df[col]\n",
    "df = df[pd.notnull(df['Consumer complaint narrative'])]\n",
    "df = df[pd.notnull(df['Company public response'])]"
   ]
  },
  {
   "cell_type": "code",
   "execution_count": 8,
   "id": "a96bc8f3",
   "metadata": {},
   "outputs": [],
   "source": [
    "df.columns=['Product', 'Consumer_complaint','Zip_code', 'Company', 'Public_Response']"
   ]
  },
  {
   "cell_type": "code",
   "execution_count": 9,
   "id": "544b332d",
   "metadata": {},
   "outputs": [],
   "source": [
    "# Allows us to categorize the type of complaint that consumers have submitted\n",
    "df['category_id'] = df['Product'].factorize()[0]"
   ]
  },
  {
   "cell_type": "code",
   "execution_count": 10,
   "id": "8eb9a12d",
   "metadata": {},
   "outputs": [],
   "source": [
    "# Drops any duplicate complaints from the same person, and allows us to sort the value\n",
    "category_id_df = df[['Product', 'category_id']].drop_duplicates().sort_values('category_id')"
   ]
  },
  {
   "cell_type": "code",
   "execution_count": 11,
   "id": "055258fb",
   "metadata": {},
   "outputs": [],
   "source": [
    "category_to_id = dict(category_id_df.values)"
   ]
  },
  {
   "cell_type": "code",
   "execution_count": 12,
   "id": "b5d2ae5a",
   "metadata": {},
   "outputs": [],
   "source": [
    "id_to_category = dict(category_id_df[['category_id', 'Product']].values)"
   ]
  },
  {
   "cell_type": "code",
   "execution_count": 13,
   "id": "1c1eeb6c",
   "metadata": {},
   "outputs": [
    {
     "data": {
      "text/html": [
       "<div>\n",
       "<style scoped>\n",
       "    .dataframe tbody tr th:only-of-type {\n",
       "        vertical-align: middle;\n",
       "    }\n",
       "\n",
       "    .dataframe tbody tr th {\n",
       "        vertical-align: top;\n",
       "    }\n",
       "\n",
       "    .dataframe thead th {\n",
       "        text-align: right;\n",
       "    }\n",
       "</style>\n",
       "<table border=\"1\" class=\"dataframe\">\n",
       "  <thead>\n",
       "    <tr style=\"text-align: right;\">\n",
       "      <th></th>\n",
       "      <th>Product</th>\n",
       "      <th>Consumer_complaint</th>\n",
       "      <th>Zip_code</th>\n",
       "      <th>Company</th>\n",
       "      <th>Public_Response</th>\n",
       "      <th>category_id</th>\n",
       "    </tr>\n",
       "  </thead>\n",
       "  <tbody>\n",
       "    <tr>\n",
       "      <th>325875</th>\n",
       "      <td>Credit reporting, credit repair services, or o...</td>\n",
       "      <td>Trans Union has deleted all my active accounts...</td>\n",
       "      <td>91403.0</td>\n",
       "      <td>TRANSUNION INTERMEDIATE HOLDINGS, INC.</td>\n",
       "      <td>Company has responded to the consumer and the ...</td>\n",
       "      <td>0</td>\n",
       "    </tr>\n",
       "    <tr>\n",
       "      <th>1492721</th>\n",
       "      <td>Credit reporting, credit repair services, or o...</td>\n",
       "      <td>An account is reporting to my credit profile t...</td>\n",
       "      <td>30013.0</td>\n",
       "      <td>Experian Information Solutions Inc.</td>\n",
       "      <td>Company has responded to the consumer and the ...</td>\n",
       "      <td>0</td>\n",
       "    </tr>\n",
       "    <tr>\n",
       "      <th>1763431</th>\n",
       "      <td>Vehicle loan or lease</td>\n",
       "      <td>Bridgecrest issued my car loan with a XXXX % A...</td>\n",
       "      <td>90606.0</td>\n",
       "      <td>Bridgecrest Acceptance Corporation</td>\n",
       "      <td>Company has responded to the consumer and the ...</td>\n",
       "      <td>1</td>\n",
       "    </tr>\n",
       "    <tr>\n",
       "      <th>3003577</th>\n",
       "      <td>Credit reporting, credit repair services, or o...</td>\n",
       "      <td>I have hard inquiries on my credit report that...</td>\n",
       "      <td>77072</td>\n",
       "      <td>TRANSUNION INTERMEDIATE HOLDINGS, INC.</td>\n",
       "      <td>Company has responded to the consumer and the ...</td>\n",
       "      <td>0</td>\n",
       "    </tr>\n",
       "    <tr>\n",
       "      <th>1414011</th>\n",
       "      <td>Credit card or prepaid card</td>\n",
       "      <td>Synchrony denied on-line credit for Care Credi...</td>\n",
       "      <td>07069</td>\n",
       "      <td>SYNCHRONY FINANCIAL</td>\n",
       "      <td>Company has responded to the consumer and the ...</td>\n",
       "      <td>2</td>\n",
       "    </tr>\n",
       "  </tbody>\n",
       "</table>\n",
       "</div>"
      ],
      "text/plain": [
       "                                                   Product  \\\n",
       "325875   Credit reporting, credit repair services, or o...   \n",
       "1492721  Credit reporting, credit repair services, or o...   \n",
       "1763431                              Vehicle loan or lease   \n",
       "3003577  Credit reporting, credit repair services, or o...   \n",
       "1414011                        Credit card or prepaid card   \n",
       "\n",
       "                                        Consumer_complaint Zip_code  \\\n",
       "325875   Trans Union has deleted all my active accounts...  91403.0   \n",
       "1492721  An account is reporting to my credit profile t...  30013.0   \n",
       "1763431  Bridgecrest issued my car loan with a XXXX % A...  90606.0   \n",
       "3003577  I have hard inquiries on my credit report that...    77072   \n",
       "1414011  Synchrony denied on-line credit for Care Credi...    07069   \n",
       "\n",
       "                                        Company  \\\n",
       "325875   TRANSUNION INTERMEDIATE HOLDINGS, INC.   \n",
       "1492721     Experian Information Solutions Inc.   \n",
       "1763431      Bridgecrest Acceptance Corporation   \n",
       "3003577  TRANSUNION INTERMEDIATE HOLDINGS, INC.   \n",
       "1414011                     SYNCHRONY FINANCIAL   \n",
       "\n",
       "                                           Public_Response  category_id  \n",
       "325875   Company has responded to the consumer and the ...            0  \n",
       "1492721  Company has responded to the consumer and the ...            0  \n",
       "1763431  Company has responded to the consumer and the ...            1  \n",
       "3003577  Company has responded to the consumer and the ...            0  \n",
       "1414011  Company has responded to the consumer and the ...            2  "
      ]
     },
     "execution_count": 13,
     "metadata": {},
     "output_type": "execute_result"
    }
   ],
   "source": [
    "df.head()"
   ]
  },
  {
   "cell_type": "code",
   "execution_count": 14,
   "id": "de7481d7",
   "metadata": {},
   "outputs": [
    {
     "data": {
      "image/png": "[encoded data removed]",
      "text/plain": [
       "<Figure size 1080x576 with 1 Axes>"
      ]
     },
     "metadata": {
      "needs_background": "light"
     },
     "output_type": "display_data"
    }
   ],
   "source": [
    "fig = plt.figure(figsize = (15,8))\n",
    "df.groupby('Product').Consumer_complaint.count().plot.barh(ylim=0, align='center');\n",
    "plt.title('Types of Categories based on Consumer Complaints submtited by the CFPB', size=25, y=1.08)\n",
    "plt.xlabel('Total number of complaints', size=15)\n",
    "plt.ylabel('Category of complaint', size=20, x=1.25)\n",
    "plt.style.use('ggplot')\n",
    "\n",
    "plt.show()"
   ]
  },
  {
   "cell_type": "code",
   "execution_count": 15,
   "id": "7f1250d8",
   "metadata": {},
   "outputs": [
    {
     "data": {
      "text/plain": [
       "TRANSUNION INTERMEDIATE HOLDINGS, INC.    909\n",
       "Experian Information Solutions Inc.       869\n",
       "CITIBANK, N.A.                            185\n",
       "WELLS FARGO & COMPANY                     183\n",
       "BANK OF AMERICA, NATIONAL ASSOCIATION     179\n",
       "                                         ... \n",
       "IQOR US INC                                 1\n",
       "Pacific Union Financial, LLC                1\n",
       "CASH IN A FLASH INC                         1\n",
       "STATE EMPLOYEES CREDIT UNION                1\n",
       "Island Finance Puerto Rico                  1\n",
       "Name: Company, Length: 341, dtype: int64"
      ]
     },
     "execution_count": 15,
     "metadata": {},
     "output_type": "execute_result"
    }
   ],
   "source": [
    "df.Company.value_counts()"
   ]
  },
  {
   "cell_type": "code",
   "execution_count": 16,
   "id": "b7591d85",
   "metadata": {},
   "outputs": [],
   "source": [
    "# te = df.groupby('Product').category_id.count()\n",
    "# te[:8].plot.barh(ylim=0, align='center');"
   ]
  },
  {
   "cell_type": "markdown",
   "id": "665b5177",
   "metadata": {},
   "source": [
    "# SVC (A part of SVM)"
   ]
  },
  {
   "cell_type": "code",
   "execution_count": 17,
   "id": "9db23cd4",
   "metadata": {},
   "outputs": [],
   "source": [
    "tfidf = TfidfVectorizer(sublinear_tf=True,\n",
    "                       min_df = 5,\n",
    "                       norm ='l2',\n",
    "                       ngram_range = (1,2),\n",
    "                       stop_words = 'english')"
   ]
  },
  {
   "cell_type": "code",
   "execution_count": 18,
   "id": "73674252",
   "metadata": {},
   "outputs": [],
   "source": [
    "features = tfidf.fit_transform(df.Consumer_complaint).toarray()"
   ]
  },
  {
   "cell_type": "code",
   "execution_count": 19,
   "id": "85b21def",
   "metadata": {},
   "outputs": [
    {
     "data": {
      "text/plain": [
       "(3500, 9975)"
      ]
     },
     "execution_count": 19,
     "metadata": {},
     "output_type": "execute_result"
    }
   ],
   "source": [
    "labels = df.category_id\n",
    "features.shape"
   ]
  },
  {
   "cell_type": "code",
   "execution_count": 20,
   "id": "35e9e98e",
   "metadata": {},
   "outputs": [
    {
     "data": {
      "text/plain": [
       "Index(['Product', 'Consumer_complaint', 'Zip_code', 'Company',\n",
       "       'Public_Response', 'category_id'],\n",
       "      dtype='object')"
      ]
     },
     "execution_count": 20,
     "metadata": {},
     "output_type": "execute_result"
    }
   ],
   "source": [
    "df.columns"
   ]
  },
  {
   "cell_type": "markdown",
   "id": "77a3c187",
   "metadata": {},
   "source": [
    "#### It is truly dependent on the complaint of the consumer, the company that is issuing the product, and the public response that the company issues toward the consumer."
   ]
  },
  {
   "cell_type": "code",
   "execution_count": 108,
   "id": "a857d631",
   "metadata": {},
   "outputs": [],
   "source": [
    "# Including more variables alongside with it \n",
    "# X is Public Response, Y is Product\n",
    "X_train, X_test, y_train, y_test = train_test_split(df['Public_Response'],\n",
    "                            df['Product'], random_state= 0, test_size=0.20, train_size=0.80)"
   ]
  },
  {
   "cell_type": "code",
   "execution_count": 109,
   "id": "09c4d6c9",
   "metadata": {},
   "outputs": [],
   "source": [
    "count_vect = CountVectorizer()\n",
    "\n",
    "X_train_counts = count_vect.fit_transform(X_train)\n",
    "tfidf_transformer = TfidfTransformer()\n",
    "X_train_tfidf = tfidf_transformer.fit_transform(X_train_counts)"
   ]
  },
  {
   "cell_type": "code",
   "execution_count": 110,
   "id": "5ba7a5da",
   "metadata": {},
   "outputs": [
    {
     "data": {
      "text/plain": [
       "(2800, 56)"
      ]
     },
     "execution_count": 110,
     "metadata": {},
     "output_type": "execute_result"
    }
   ],
   "source": [
    "X_train_tfidf.shape"
   ]
  },
  {
   "cell_type": "code",
   "execution_count": 111,
   "id": "2a239d27",
   "metadata": {},
   "outputs": [
    {
     "data": {
      "text/plain": [
       "(2800,)"
      ]
     },
     "execution_count": 111,
     "metadata": {},
     "output_type": "execute_result"
    }
   ],
   "source": [
    "y_train.shape"
   ]
  },
  {
   "cell_type": "code",
   "execution_count": 56,
   "id": "ba89d7d8",
   "metadata": {},
   "outputs": [],
   "source": [
    "clf = LinearSVC().fit(X_train_tfidf, y_train)"
   ]
  },
  {
   "cell_type": "code",
   "execution_count": 57,
   "id": "a02fd511",
   "metadata": {},
   "outputs": [
    {
     "name": "stdout",
     "output_type": "stream",
     "text": [
      "['Debt collection']\n"
     ]
    }
   ],
   "source": [
    "print(clf.predict(count_vect.transform(['I have outdated information on my credit report'])))"
   ]
  },
  {
   "cell_type": "code",
   "execution_count": 38,
   "id": "d44458a5",
   "metadata": {},
   "outputs": [
    {
     "name": "stdout",
     "output_type": "stream",
     "text": [
      "['Debt collection']\n"
     ]
    }
   ],
   "source": [
    "print(clf.predict(count_vect.transform([''])))"
   ]
  },
  {
   "cell_type": "code",
   "execution_count": 58,
   "id": "d7c9ce37",
   "metadata": {},
   "outputs": [],
   "source": [
    "y_pred = clf.predict(count_vect.transform(X_test))"
   ]
  },
  {
   "cell_type": "markdown",
   "id": "e1e740d9",
   "metadata": {},
   "source": [
    "A higher recall score is needed, as if there is fraduelent detection with one of these claims, it can be depicted as non-fradulent, which can be consequential for the financial institute. "
   ]
  },
  {
   "cell_type": "markdown",
   "id": "95f658b5",
   "metadata": {},
   "source": [
    "### Precision = how precise / accurate our model is when depicting which is what (Positive or Negative)\n",
    "### Recall = How many of the actual positives our model captures is actually labeling it positive\n",
    "### F1-score = A function of both Precision and Recall. It is valuable if we need to seek a balance between Precision and Recall AND there is an uneven class distribution (large number of Actual Negatives)."
   ]
  },
  {
   "cell_type": "code",
   "execution_count": 59,
   "id": "ff7cc74f",
   "metadata": {},
   "outputs": [
    {
     "name": "stdout",
     "output_type": "stream",
     "text": [
      "                                                                              precision    recall  f1-score   support\n",
      "\n",
      "Credit reporting, credit repair services, or other personal consumer reports       0.64      0.98      0.78       383\n",
      "                                                       Vehicle loan or lease       0.64      0.98      0.78       383\n",
      "                                                 Credit card or prepaid card       0.00      0.00      0.00        11\n",
      "                                                             Debt collection       0.64      0.98      0.78       383\n",
      "                                                                    Mortgage       0.00      0.00      0.00        39\n",
      "                                                 Checking or savings account       0.48      0.43      0.45        89\n",
      "                                                                 Credit card       0.64      0.98      0.78       383\n",
      "                                                            Credit reporting       0.64      0.98      0.78       383\n",
      "                                                               Consumer Loan       0.62      0.08      0.14        64\n",
      "                                                     Bank account or service       0.64      0.98      0.78       383\n",
      "                                   Payday loan, title loan, or personal loan       0.00      0.00      0.00        38\n",
      "                                                                Prepaid card       0.64      0.98      0.78       383\n",
      "                                                                Student loan       0.64      0.98      0.78       383\n",
      "                          Money transfer, virtual currency, or money service       0.64      0.98      0.78       383\n",
      "                                                                 Payday loan       0.48      0.43      0.45        89\n",
      "                                                     Other financial service       0.64      0.98      0.78       383\n",
      "                                                             Money transfers       0.64      0.98      0.78       383\n",
      "\n",
      "                                                                   micro avg       0.64      0.90      0.75    807243\n",
      "                                                                   macro avg       0.48      0.61      0.51    807243\n",
      "                                                                weighted avg       0.62      0.90      0.72    807243\n",
      "\n"
     ]
    },
    {
     "name": "stderr",
     "output_type": "stream",
     "text": [
      "/Users/omaral-shammary/opt/anaconda3/lib/python3.8/site-packages/sklearn/metrics/_classification.py:2141: UserWarning: labels size, 3500, does not match size of target_names, 17\n",
      "  warnings.warn(\n",
      "/Users/omaral-shammary/opt/anaconda3/lib/python3.8/site-packages/sklearn/metrics/_classification.py:1327: UndefinedMetricWarning: Precision and F-score are ill-defined and being set to 0.0 in labels with no predicted samples. Use `zero_division` parameter to control this behavior.\n",
      "  _warn_prf(average, modifier, msg_start, len(result))\n",
      "/Users/omaral-shammary/opt/anaconda3/lib/python3.8/site-packages/sklearn/metrics/_classification.py:1327: UndefinedMetricWarning: Recall and F-score are ill-defined and being set to 0.0 in labels with no true samples. Use `zero_division` parameter to control this behavior.\n",
      "  _warn_prf(average, modifier, msg_start, len(result))\n",
      "/Users/omaral-shammary/opt/anaconda3/lib/python3.8/site-packages/sklearn/metrics/_classification.py:1327: UndefinedMetricWarning: Precision and F-score are ill-defined and being set to 0.0 in labels with no predicted samples. Use `zero_division` parameter to control this behavior.\n",
      "  _warn_prf(average, modifier, msg_start, len(result))\n",
      "/Users/omaral-shammary/opt/anaconda3/lib/python3.8/site-packages/sklearn/metrics/_classification.py:1327: UndefinedMetricWarning: Recall and F-score are ill-defined and being set to 0.0 in labels with no true samples. Use `zero_division` parameter to control this behavior.\n",
      "  _warn_prf(average, modifier, msg_start, len(result))\n",
      "/Users/omaral-shammary/opt/anaconda3/lib/python3.8/site-packages/sklearn/metrics/_classification.py:1327: UndefinedMetricWarning: Precision and F-score are ill-defined and being set to 0.0 in labels with no predicted samples. Use `zero_division` parameter to control this behavior.\n",
      "  _warn_prf(average, modifier, msg_start, len(result))\n",
      "/Users/omaral-shammary/opt/anaconda3/lib/python3.8/site-packages/sklearn/metrics/_classification.py:1327: UndefinedMetricWarning: Recall and F-score are ill-defined and being set to 0.0 in labels with no true samples. Use `zero_division` parameter to control this behavior.\n",
      "  _warn_prf(average, modifier, msg_start, len(result))\n"
     ]
    }
   ],
   "source": [
    "print(metrics.classification_report(y_test,y_pred, labels=df['Product'], target_names=\n",
    "                                   df['Product'].unique()))"
   ]
  },
  {
   "cell_type": "code",
   "execution_count": 60,
   "id": "7fe854ef",
   "metadata": {},
   "outputs": [
    {
     "data": {
      "text/plain": [
       "{'Bank account or service',\n",
       " 'Checking or savings account',\n",
       " 'Consumer Loan',\n",
       " 'Credit card',\n",
       " 'Credit card or prepaid card',\n",
       " 'Money transfer, virtual currency, or money service',\n",
       " 'Payday loan',\n",
       " 'Payday loan, title loan, or personal loan',\n",
       " 'Prepaid card',\n",
       " 'Student loan',\n",
       " 'Vehicle loan or lease'}"
      ]
     },
     "execution_count": 60,
     "metadata": {},
     "output_type": "execute_result"
    }
   ],
   "source": [
    "set(y_test) - set(y_pred)"
   ]
  },
  {
   "cell_type": "code",
   "execution_count": 61,
   "id": "754d0aba",
   "metadata": {},
   "outputs": [
    {
     "data": {
      "text/plain": [
       "0.6311612544381096"
      ]
     },
     "execution_count": 61,
     "metadata": {},
     "output_type": "execute_result"
    }
   ],
   "source": [
    "metrics.f1_score(y_test, y_pred, average='weighted', labels=np.unique(y_pred))"
   ]
  },
  {
   "cell_type": "code",
   "execution_count": 62,
   "id": "6c2f7f2a",
   "metadata": {},
   "outputs": [],
   "source": [
    "#from sklearn.pipeline import make_pipeline\n",
    "# from sklearn.preprocessing import StandardScaler\n",
    "\n",
    "# classifier = make_pipeline(StandardScaler(), LinearSVC())\n",
    "# classifier.fit(X_train_tfidf, y_train)"
   ]
  },
  {
   "cell_type": "markdown",
   "id": "70c3005f",
   "metadata": {},
   "source": [
    "# BernoulliNB (Naive Bayes Classifier)"
   ]
  },
  {
   "cell_type": "code",
   "execution_count": 121,
   "id": "7d3380fb",
   "metadata": {},
   "outputs": [
    {
     "name": "stdout",
     "output_type": "stream",
     "text": [
      "['Debt collection']\n"
     ]
    }
   ],
   "source": [
    "clf2 = BernoulliNB().fit(X_train_tfidf, y_train)\n",
    "print(clf2.predict(count_vect.transform(['I have outdated information on my credit report'])))"
   ]
  },
  {
   "cell_type": "code",
   "execution_count": 122,
   "id": "48dd3bc5",
   "metadata": {},
   "outputs": [
    {
     "name": "stdout",
     "output_type": "stream",
     "text": [
      "                                                                              precision    recall  f1-score   support\n",
      "\n",
      "Credit reporting, credit repair services, or other personal consumer reports       0.64      0.98      0.78       383\n",
      "                                                       Vehicle loan or lease       0.64      0.98      0.78       383\n",
      "                                                 Credit card or prepaid card       0.00      0.00      0.00        11\n",
      "                                                             Debt collection       0.64      0.98      0.78       383\n",
      "                                                                    Mortgage       0.00      0.00      0.00        39\n",
      "                                                 Checking or savings account       0.54      0.08      0.14        89\n",
      "                                                                 Credit card       0.64      0.98      0.78       383\n",
      "                                                            Credit reporting       0.64      0.98      0.78       383\n",
      "                                                               Consumer Loan       0.00      0.00      0.00        64\n",
      "                                                     Bank account or service       0.64      0.98      0.78       383\n",
      "                                   Payday loan, title loan, or personal loan       0.00      0.00      0.00        38\n",
      "                                                                Prepaid card       0.64      0.98      0.78       383\n",
      "                                                                Student loan       0.64      0.98      0.78       383\n",
      "                          Money transfer, virtual currency, or money service       0.64      0.98      0.78       383\n",
      "                                                                 Payday loan       0.54      0.08      0.14        89\n",
      "                                                     Other financial service       0.64      0.98      0.78       383\n",
      "                                                             Money transfers       0.64      0.98      0.78       383\n",
      "\n",
      "                                                                   micro avg       0.64      0.88      0.74    807243\n",
      "                                                                   macro avg       0.43      0.55      0.45    807243\n",
      "                                                                weighted avg       0.61      0.88      0.70    807243\n",
      "\n"
     ]
    },
    {
     "name": "stderr",
     "output_type": "stream",
     "text": [
      "/Users/omaral-shammary/opt/anaconda3/lib/python3.8/site-packages/sklearn/metrics/_classification.py:2141: UserWarning: labels size, 3500, does not match size of target_names, 17\n",
      "  warnings.warn(\n",
      "/Users/omaral-shammary/opt/anaconda3/lib/python3.8/site-packages/sklearn/metrics/_classification.py:1327: UndefinedMetricWarning: Precision and F-score are ill-defined and being set to 0.0 in labels with no predicted samples. Use `zero_division` parameter to control this behavior.\n",
      "  _warn_prf(average, modifier, msg_start, len(result))\n",
      "/Users/omaral-shammary/opt/anaconda3/lib/python3.8/site-packages/sklearn/metrics/_classification.py:1327: UndefinedMetricWarning: Recall and F-score are ill-defined and being set to 0.0 in labels with no true samples. Use `zero_division` parameter to control this behavior.\n",
      "  _warn_prf(average, modifier, msg_start, len(result))\n",
      "/Users/omaral-shammary/opt/anaconda3/lib/python3.8/site-packages/sklearn/metrics/_classification.py:1327: UndefinedMetricWarning: Precision and F-score are ill-defined and being set to 0.0 in labels with no predicted samples. Use `zero_division` parameter to control this behavior.\n",
      "  _warn_prf(average, modifier, msg_start, len(result))\n",
      "/Users/omaral-shammary/opt/anaconda3/lib/python3.8/site-packages/sklearn/metrics/_classification.py:1327: UndefinedMetricWarning: Recall and F-score are ill-defined and being set to 0.0 in labels with no true samples. Use `zero_division` parameter to control this behavior.\n",
      "  _warn_prf(average, modifier, msg_start, len(result))\n",
      "/Users/omaral-shammary/opt/anaconda3/lib/python3.8/site-packages/sklearn/metrics/_classification.py:1327: UndefinedMetricWarning: Precision and F-score are ill-defined and being set to 0.0 in labels with no predicted samples. Use `zero_division` parameter to control this behavior.\n",
      "  _warn_prf(average, modifier, msg_start, len(result))\n",
      "/Users/omaral-shammary/opt/anaconda3/lib/python3.8/site-packages/sklearn/metrics/_classification.py:1327: UndefinedMetricWarning: Recall and F-score are ill-defined and being set to 0.0 in labels with no true samples. Use `zero_division` parameter to control this behavior.\n",
      "  _warn_prf(average, modifier, msg_start, len(result))\n"
     ]
    }
   ],
   "source": [
    "y_pred = clf2.predict(count_vect.transform(X_test))\n",
    "print(metrics.classification_report(y_test,y_pred, labels=df['Product'], target_names=\n",
    "                                   df['Product'].unique()))"
   ]
  },
  {
   "cell_type": "code",
   "execution_count": 65,
   "id": "4fde0105",
   "metadata": {},
   "outputs": [
    {
     "data": {
      "text/plain": [
       "0.6307164260385107"
      ]
     },
     "execution_count": 65,
     "metadata": {},
     "output_type": "execute_result"
    }
   ],
   "source": [
    "metrics.f1_score(y_test, y_pred, average='weighted', labels=np.unique(y_pred))"
   ]
  },
  {
   "cell_type": "markdown",
   "id": "5cf5f808",
   "metadata": {},
   "source": [
    "# MultinomialNB "
   ]
  },
  {
   "cell_type": "code",
   "execution_count": 123,
   "id": "f00b66fc",
   "metadata": {},
   "outputs": [
    {
     "name": "stdout",
     "output_type": "stream",
     "text": [
      "['Credit reporting, credit repair services, or other personal consumer reports']\n"
     ]
    }
   ],
   "source": [
    "clf3 = MultinomialNB().fit(X_train_tfidf, y_train)\n",
    "print(clf3.predict(count_vect.transform(['I have outdated information on my credit report'])))"
   ]
  },
  {
   "cell_type": "code",
   "execution_count": 124,
   "id": "e3056f75",
   "metadata": {},
   "outputs": [],
   "source": [
    "y_pred = clf3.predict(count_vect.transform(X_test))"
   ]
  },
  {
   "cell_type": "code",
   "execution_count": 125,
   "id": "9a482c55",
   "metadata": {},
   "outputs": [
    {
     "name": "stdout",
     "output_type": "stream",
     "text": [
      "                                                                              precision    recall  f1-score   support\n",
      "\n",
      "Credit reporting, credit repair services, or other personal consumer reports       0.61      0.98      0.75       383\n",
      "                                                       Vehicle loan or lease       0.61      0.98      0.75       383\n",
      "                                                 Credit card or prepaid card       0.00      0.00      0.00        11\n",
      "                                                             Debt collection       0.61      0.98      0.75       383\n",
      "                                                                    Mortgage       0.00      0.00      0.00        39\n",
      "                                                 Checking or savings account       0.48      0.43      0.45        89\n",
      "                                                                 Credit card       0.61      0.98      0.75       383\n",
      "                                                            Credit reporting       0.61      0.98      0.75       383\n",
      "                                                               Consumer Loan       0.60      0.05      0.09        64\n",
      "                                                     Bank account or service       0.61      0.98      0.75       383\n",
      "                                   Payday loan, title loan, or personal loan       0.00      0.00      0.00        38\n",
      "                                                                Prepaid card       0.61      0.98      0.75       383\n",
      "                                                                Student loan       0.61      0.98      0.75       383\n",
      "                          Money transfer, virtual currency, or money service       0.61      0.98      0.75       383\n",
      "                                                                 Payday loan       0.48      0.43      0.45        89\n",
      "                                                     Other financial service       0.61      0.98      0.75       383\n",
      "                                                             Money transfers       0.61      0.98      0.75       383\n",
      "\n",
      "                                                                   micro avg       0.61      0.90      0.72    807243\n",
      "                                                                   macro avg       0.45      0.59      0.48    807243\n",
      "                                                                weighted avg       0.59      0.90      0.70    807243\n",
      "\n"
     ]
    },
    {
     "name": "stderr",
     "output_type": "stream",
     "text": [
      "/Users/omaral-shammary/opt/anaconda3/lib/python3.8/site-packages/sklearn/metrics/_classification.py:2141: UserWarning: labels size, 3500, does not match size of target_names, 17\n",
      "  warnings.warn(\n",
      "/Users/omaral-shammary/opt/anaconda3/lib/python3.8/site-packages/sklearn/metrics/_classification.py:1327: UndefinedMetricWarning: Precision and F-score are ill-defined and being set to 0.0 in labels with no predicted samples. Use `zero_division` parameter to control this behavior.\n",
      "  _warn_prf(average, modifier, msg_start, len(result))\n",
      "/Users/omaral-shammary/opt/anaconda3/lib/python3.8/site-packages/sklearn/metrics/_classification.py:1327: UndefinedMetricWarning: Recall and F-score are ill-defined and being set to 0.0 in labels with no true samples. Use `zero_division` parameter to control this behavior.\n",
      "  _warn_prf(average, modifier, msg_start, len(result))\n",
      "/Users/omaral-shammary/opt/anaconda3/lib/python3.8/site-packages/sklearn/metrics/_classification.py:1327: UndefinedMetricWarning: Precision and F-score are ill-defined and being set to 0.0 in labels with no predicted samples. Use `zero_division` parameter to control this behavior.\n",
      "  _warn_prf(average, modifier, msg_start, len(result))\n",
      "/Users/omaral-shammary/opt/anaconda3/lib/python3.8/site-packages/sklearn/metrics/_classification.py:1327: UndefinedMetricWarning: Recall and F-score are ill-defined and being set to 0.0 in labels with no true samples. Use `zero_division` parameter to control this behavior.\n",
      "  _warn_prf(average, modifier, msg_start, len(result))\n",
      "/Users/omaral-shammary/opt/anaconda3/lib/python3.8/site-packages/sklearn/metrics/_classification.py:1327: UndefinedMetricWarning: Precision and F-score are ill-defined and being set to 0.0 in labels with no predicted samples. Use `zero_division` parameter to control this behavior.\n",
      "  _warn_prf(average, modifier, msg_start, len(result))\n",
      "/Users/omaral-shammary/opt/anaconda3/lib/python3.8/site-packages/sklearn/metrics/_classification.py:1327: UndefinedMetricWarning: Recall and F-score are ill-defined and being set to 0.0 in labels with no true samples. Use `zero_division` parameter to control this behavior.\n",
      "  _warn_prf(average, modifier, msg_start, len(result))\n"
     ]
    }
   ],
   "source": [
    "print(metrics.classification_report(y_test,y_pred, labels=df.Product, target_names=\n",
    "                                   df['Product'].unique()))"
   ]
  },
  {
   "cell_type": "code",
   "execution_count": 69,
   "id": "ccd70d38",
   "metadata": {},
   "outputs": [
    {
     "data": {
      "text/plain": [
       "0.6117956077495925"
      ]
     },
     "execution_count": 69,
     "metadata": {},
     "output_type": "execute_result"
    }
   ],
   "source": [
    "metrics.f1_score(y_test, y_pred, average='weighted', labels=np.unique(y_pred))"
   ]
  },
  {
   "cell_type": "markdown",
   "id": "c0494105",
   "metadata": {},
   "source": [
    "# Truncated SVD  (aka LSA)"
   ]
  },
  {
   "cell_type": "markdown",
   "id": "e8d549dc",
   "metadata": {},
   "source": [
    "Rather than converting a sparse matrix to dense (which is discouraged), I would use scikits-learn's TruncatedSVD, which is a PCA-like dimmensionality reduction algorithm (using by default Randomized SVD) which works on sparse data:"
   ]
  },
  {
   "cell_type": "markdown",
   "id": "bafb4790",
   "metadata": {},
   "source": [
    "In particular, truncated SVD works on term count/tf-idf matrices as returned by the vectorizers in sklearn.feature_extraction.text. In that context, it is known as latent semantic analysis (LSA)"
   ]
  },
  {
   "cell_type": "code",
   "execution_count": 3,
   "id": "1acfe8d2",
   "metadata": {},
   "outputs": [],
   "source": [
    "from sklearn.decomposition import PCA\n",
    "from sklearn.decomposition import TruncatedSVD\n",
    "from sklearn.preprocessing import StandardScaler"
   ]
  },
  {
   "cell_type": "code",
   "execution_count": 4,
   "id": "81a47302",
   "metadata": {},
   "outputs": [
    {
     "ename": "NameError",
     "evalue": "name 'X_train_tfidf' is not defined",
     "output_type": "error",
     "traceback": [
      "\u001b[0;31m---------------------------------------------------------------------------\u001b[0m",
      "\u001b[0;31mNameError\u001b[0m                                 Traceback (most recent call last)",
      "Input \u001b[0;32mIn [4]\u001b[0m, in \u001b[0;36m<cell line: 2>\u001b[0;34m()\u001b[0m\n\u001b[1;32m      1\u001b[0m svd \u001b[38;5;241m=\u001b[39m TruncatedSVD(n_components\u001b[38;5;241m=\u001b[39m\u001b[38;5;241m5\u001b[39m, n_iter \u001b[38;5;241m=\u001b[39m \u001b[38;5;241m7\u001b[39m, random_state\u001b[38;5;241m=\u001b[39m\u001b[38;5;241m42\u001b[39m)\n\u001b[0;32m----> 2\u001b[0m clf4 \u001b[38;5;241m=\u001b[39m svd\u001b[38;5;241m.\u001b[39mfit_transform(\u001b[43mX_train_tfidf\u001b[49m,y_train)\n",
      "\u001b[0;31mNameError\u001b[0m: name 'X_train_tfidf' is not defined"
     ]
    }
   ],
   "source": [
    "svd = TruncatedSVD(n_components=5, n_iter = 7, random_state=42)\n",
    "clf4 = svd.fit_transform(X_train_tfidf,y_train)"
   ]
  },
  {
   "cell_type": "code",
   "execution_count": 1,
   "id": "c0482959",
   "metadata": {},
   "outputs": [
    {
     "ename": "NameError",
     "evalue": "name 'clf4' is not defined",
     "output_type": "error",
     "traceback": [
      "\u001b[0;31m---------------------------------------------------------------------------\u001b[0m",
      "\u001b[0;31mNameError\u001b[0m                                 Traceback (most recent call last)",
      "Input \u001b[0;32mIn [1]\u001b[0m, in \u001b[0;36m<cell line: 1>\u001b[0;34m()\u001b[0m\n\u001b[0;32m----> 1\u001b[0m \u001b[38;5;28mprint\u001b[39m(\u001b[43mclf4\u001b[49m\u001b[38;5;241m.\u001b[39mpredict(count_vect\u001b[38;5;241m.\u001b[39mtransform([\u001b[38;5;124m'\u001b[39m\u001b[38;5;124mI have outdated information on my credit report\u001b[39m\u001b[38;5;124m'\u001b[39m])))\n",
      "\u001b[0;31mNameError\u001b[0m: name 'clf4' is not defined"
     ]
    }
   ],
   "source": [
    "print(clf4.predict(count_vect.transform(['I have outdated information on my credit report'])))"
   ]
  },
  {
   "cell_type": "code",
   "execution_count": 114,
   "id": "bc8963f7",
   "metadata": {},
   "outputs": [
    {
     "name": "stdout",
     "output_type": "stream",
     "text": [
      "[0.42609049 0.34181134 0.08553899 0.05653773 0.03128392]\n"
     ]
    }
   ],
   "source": [
    "print(svd.explained_variance_ratio_)"
   ]
  },
  {
   "cell_type": "code",
   "execution_count": 115,
   "id": "7c43de67",
   "metadata": {},
   "outputs": [
    {
     "name": "stdout",
     "output_type": "stream",
     "text": [
      "0.9412624685996154\n"
     ]
    }
   ],
   "source": [
    "print(svd.explained_variance_ratio_.sum())"
   ]
  },
  {
   "cell_type": "code",
   "execution_count": 116,
   "id": "8b02b8a8",
   "metadata": {},
   "outputs": [
    {
     "name": "stdout",
     "output_type": "stream",
     "text": [
      "[48.36165193 16.90824909  8.01451776  6.59363693  4.84907565]\n"
     ]
    }
   ],
   "source": [
    "print(svd.singular_values_)"
   ]
  },
  {
   "cell_type": "code",
   "execution_count": 105,
   "id": "92cb2c78",
   "metadata": {},
   "outputs": [
    {
     "ename": "AttributeError",
     "evalue": "'numpy.ndarray' object has no attribute 'predict'",
     "output_type": "error",
     "traceback": [
      "\u001b[0;31m---------------------------------------------------------------------------\u001b[0m",
      "\u001b[0;31mAttributeError\u001b[0m                            Traceback (most recent call last)",
      "Input \u001b[0;32mIn [105]\u001b[0m, in \u001b[0;36m<cell line: 1>\u001b[0;34m()\u001b[0m\n\u001b[0;32m----> 1\u001b[0m \u001b[38;5;28mprint\u001b[39m(\u001b[43mclf4\u001b[49m\u001b[38;5;241;43m.\u001b[39;49m\u001b[43mpredict\u001b[49m(count_vect\u001b[38;5;241m.\u001b[39mtransform([\u001b[38;5;124m'\u001b[39m\u001b[38;5;124mI have outdated information on my credit report\u001b[39m\u001b[38;5;124m'\u001b[39m])))\n",
      "\u001b[0;31mAttributeError\u001b[0m: 'numpy.ndarray' object has no attribute 'predict'"
     ]
    }
   ],
   "source": [
    "print(clf4.predict(count_vect.transform(['I have outdated information on my credit report'])))"
   ]
  },
  {
   "cell_type": "code",
   "execution_count": 90,
   "id": "40ec10aa",
   "metadata": {},
   "outputs": [],
   "source": [
    "#classifier.fit(X_train_tfidf, y_train)"
   ]
  },
  {
   "cell_type": "code",
   "execution_count": null,
   "id": "02c6d37a",
   "metadata": {},
   "outputs": [],
   "source": [
    "#clf3 = MultinomialNB().fit(X_train_tfidf, y_train)\n",
    "#print(clf3.predict(count_vect.transform(['I have outdated information on my credit report'])))"
   ]
  },
  {
   "cell_type": "code",
   "execution_count": 75,
   "id": "a6c5ed3a",
   "metadata": {},
   "outputs": [
    {
     "data": {
      "text/plain": [
       "(2800, 56)"
      ]
     },
     "execution_count": 75,
     "metadata": {},
     "output_type": "execute_result"
    }
   ],
   "source": [
    "X_train_tfidf.shape"
   ]
  },
  {
   "cell_type": "code",
   "execution_count": 76,
   "id": "bac091c8",
   "metadata": {},
   "outputs": [
    {
     "data": {
      "text/plain": [
       "(2800,)"
      ]
     },
     "execution_count": 76,
     "metadata": {},
     "output_type": "execute_result"
    }
   ],
   "source": [
    "y_train.shape"
   ]
  },
  {
   "cell_type": "code",
   "execution_count": null,
   "id": "e0490624",
   "metadata": {},
   "outputs": [],
   "source": [
    "svd = TruncatedSVD(n_components=5, random_state=42)\n",
    "data = svd.fit_transform(data) "
   ]
  }
 ],
 "metadata": {
  "kernelspec": {
   "display_name": "Python 3 (ipykernel)",
   "language": "python",
   "name": "python3"
  },
  "language_info": {
   "codemirror_mode": {
    "name": "ipython",
    "version": 3
   },
   "file_extension": ".py",
   "mimetype": "text/x-python",
   "name": "python",
   "nbconvert_exporter": "python",
   "pygments_lexer": "ipython3",
   "version": "3.8.13"
  }
 },
 "nbformat": 4,
 "nbformat_minor": 5
}
