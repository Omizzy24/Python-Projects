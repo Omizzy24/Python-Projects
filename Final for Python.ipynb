{
 "cells": [
  {
   "cell_type": "markdown",
   "id": "68877267",
   "metadata": {},
   "source": [
    "# Multiclass Text Classification (SVM)"
   ]
  },
  {
   "cell_type": "code",
   "execution_count": 1,
   "id": "06093bf0",
   "metadata": {},
   "outputs": [],
   "source": [
    "import pandas as pd\n",
    "import numpy as np\n",
    "import matplotlib.pyplot as plt\n",
    "import random\n",
    "\n",
    "# Multiclass Text Classification\n",
    "from sklearn import metrics\n",
    "from sklearn.model_selection import train_test_split\n",
    "from sklearn.feature_extraction.text import TfidfVectorizer\n",
    "from sklearn.feature_extraction.text import CountVectorizer\n",
    "from sklearn.feature_extraction.text import TfidfTransformer\n",
    "\n",
    "from sklearn import svm\n",
    "from sklearn.svm import LinearSVC\n",
    "\n",
    "# Naive Bayes Classifiers (Bernoulli and Multinomial)\n",
    "from sklearn.naive_bayes import BernoulliNB\n",
    "from sklearn.naive_bayes import MultinomialNB\n",
    "\n",
    "from sklearn.pipeline import Pipeline"
   ]
  },
  {
   "cell_type": "code",
   "execution_count": 2,
   "id": "76332c79",
   "metadata": {},
   "outputs": [],
   "source": [
    "# Dask \n",
    "#import dask.dataframe as dd\n",
    "#df = dd.read_csv('/Users/omaral-shammary/Downloads/complaints.csv')"
   ]
  },
  {
   "cell_type": "code",
   "execution_count": 3,
   "id": "bdac961d",
   "metadata": {
    "scrolled": true
   },
   "outputs": [],
   "source": [
    "p = 0.01 # 1% of sample\n",
    "df = pd.read_csv('/Users/omaral-shammary/Downloads/complaints.csv', header=0,\n",
    "                skiprows=lambda i: i>0 and random.random() > p)"
   ]
  },
  {
   "cell_type": "code",
   "execution_count": 4,
   "id": "b3ec000b",
   "metadata": {},
   "outputs": [
    {
     "data": {
      "text/plain": [
       "30831"
      ]
     },
     "execution_count": 4,
     "metadata": {},
     "output_type": "execute_result"
    }
   ],
   "source": [
    "len(df)"
   ]
  },
  {
   "cell_type": "markdown",
   "id": "794457b9",
   "metadata": {},
   "source": [
    "# When our sample, n = 20000 vs n = 152317"
   ]
  },
  {
   "cell_type": "code",
   "execution_count": 5,
   "id": "34bcf1a5",
   "metadata": {},
   "outputs": [],
   "source": [
    "# Randomally selected 1,000,000 samples to test our model\n",
    "#df = df.sample(n=100000)\n",
    "#len(df)"
   ]
  },
  {
   "cell_type": "code",
   "execution_count": 6,
   "id": "181f694e",
   "metadata": {},
   "outputs": [
    {
     "data": {
      "text/plain": [
       "(30831, 18)"
      ]
     },
     "execution_count": 6,
     "metadata": {},
     "output_type": "execute_result"
    }
   ],
   "source": [
    "df.shape"
   ]
  },
  {
   "cell_type": "code",
   "execution_count": 7,
   "id": "fcc0dbc1",
   "metadata": {},
   "outputs": [
    {
     "data": {
      "text/plain": [
       "Index(['Date received', 'Product', 'Sub-product', 'Issue', 'Sub-issue',\n",
       "       'Consumer complaint narrative', 'Company public response', 'Company',\n",
       "       'State', 'ZIP code', 'Tags', 'Consumer consent provided?',\n",
       "       'Submitted via', 'Date sent to company', 'Company response to consumer',\n",
       "       'Timely response?', 'Consumer disputed?', 'Complaint ID'],\n",
       "      dtype='object')"
      ]
     },
     "execution_count": 7,
     "metadata": {},
     "output_type": "execute_result"
    }
   ],
   "source": [
    "df.columns"
   ]
  },
  {
   "cell_type": "code",
   "execution_count": 8,
   "id": "e38ce028",
   "metadata": {},
   "outputs": [],
   "source": [
    "col = ['Product', 'Consumer complaint narrative']\n",
    "df = df[col]\n",
    "df = df[pd.notnull(df['Consumer complaint narrative'])]"
   ]
  },
  {
   "cell_type": "code",
   "execution_count": 9,
   "id": "b8ac6841",
   "metadata": {},
   "outputs": [],
   "source": [
    "df.columns=['Product', 'Consumer_complaint']"
   ]
  },
  {
   "cell_type": "code",
   "execution_count": 10,
   "id": "fbe9cf96",
   "metadata": {},
   "outputs": [],
   "source": [
    "# Allows us to categorize the type of complaint that consumers have submitted\n",
    "df['category_id'] = df['Product'].factorize()[0]"
   ]
  },
  {
   "cell_type": "code",
   "execution_count": 11,
   "id": "2f329cfa",
   "metadata": {},
   "outputs": [],
   "source": [
    "# Drops any duplicate complaints from the same person, and allows us to sort the value\n",
    "category_id_df = df[['Product', 'category_id']].drop_duplicates().sort_values('category_id')"
   ]
  },
  {
   "cell_type": "code",
   "execution_count": 12,
   "id": "af7e5c96",
   "metadata": {},
   "outputs": [],
   "source": [
    "category_to_id = dict(category_id_df.values)"
   ]
  },
  {
   "cell_type": "code",
   "execution_count": 13,
   "id": "c72f9724",
   "metadata": {},
   "outputs": [],
   "source": [
    "id_to_category = dict(category_id_df[['category_id', 'Product']].values)"
   ]
  },
  {
   "cell_type": "code",
   "execution_count": 14,
   "id": "1406bed2",
   "metadata": {},
   "outputs": [
    {
     "data": {
      "text/html": [
       "<div>\n",
       "<style scoped>\n",
       "    .dataframe tbody tr th:only-of-type {\n",
       "        vertical-align: middle;\n",
       "    }\n",
       "\n",
       "    .dataframe tbody tr th {\n",
       "        vertical-align: top;\n",
       "    }\n",
       "\n",
       "    .dataframe thead th {\n",
       "        text-align: right;\n",
       "    }\n",
       "</style>\n",
       "<table border=\"1\" class=\"dataframe\">\n",
       "  <thead>\n",
       "    <tr style=\"text-align: right;\">\n",
       "      <th></th>\n",
       "      <th>Product</th>\n",
       "      <th>Consumer_complaint</th>\n",
       "      <th>category_id</th>\n",
       "    </tr>\n",
       "  </thead>\n",
       "  <tbody>\n",
       "    <tr>\n",
       "      <th>25</th>\n",
       "      <td>Credit reporting, credit repair services, or o...</td>\n",
       "      <td>I value your help to REMOVED a portion of the ...</td>\n",
       "      <td>0</td>\n",
       "    </tr>\n",
       "    <tr>\n",
       "      <th>84</th>\n",
       "      <td>Credit reporting, credit repair services, or o...</td>\n",
       "      <td>XXXX XXXX, XXXX XXXX  XXXX XXXX XXXXXXXX XXXX ...</td>\n",
       "      <td>0</td>\n",
       "    </tr>\n",
       "    <tr>\n",
       "      <th>103</th>\n",
       "      <td>Credit reporting, credit repair services, or o...</td>\n",
       "      <td>Account closed and paid in full. \\n\\n\\n\\n\\n\\n\\...</td>\n",
       "      <td>0</td>\n",
       "    </tr>\n",
       "    <tr>\n",
       "      <th>104</th>\n",
       "      <td>Checking or savings account</td>\n",
       "      <td>For years we had our accounts with USAA ( Unit...</td>\n",
       "      <td>1</td>\n",
       "    </tr>\n",
       "    <tr>\n",
       "      <th>111</th>\n",
       "      <td>Credit reporting, credit repair services, or o...</td>\n",
       "      <td>On XX/XX/2022, I purchased a new AC unit for m...</td>\n",
       "      <td>0</td>\n",
       "    </tr>\n",
       "  </tbody>\n",
       "</table>\n",
       "</div>"
      ],
      "text/plain": [
       "                                               Product  \\\n",
       "25   Credit reporting, credit repair services, or o...   \n",
       "84   Credit reporting, credit repair services, or o...   \n",
       "103  Credit reporting, credit repair services, or o...   \n",
       "104                        Checking or savings account   \n",
       "111  Credit reporting, credit repair services, or o...   \n",
       "\n",
       "                                    Consumer_complaint  category_id  \n",
       "25   I value your help to REMOVED a portion of the ...            0  \n",
       "84   XXXX XXXX, XXXX XXXX  XXXX XXXX XXXXXXXX XXXX ...            0  \n",
       "103  Account closed and paid in full. \\n\\n\\n\\n\\n\\n\\...            0  \n",
       "104  For years we had our accounts with USAA ( Unit...            1  \n",
       "111  On XX/XX/2022, I purchased a new AC unit for m...            0  "
      ]
     },
     "execution_count": 14,
     "metadata": {},
     "output_type": "execute_result"
    }
   ],
   "source": [
    "df.head()"
   ]
  },
  {
   "cell_type": "code",
   "execution_count": 209,
   "id": "2cb60618",
   "metadata": {},
   "outputs": [
    {
     "data": {
      "text/plain": [
       "<AxesSubplot:>"
      ]
     },
     "execution_count": 209,
     "metadata": {},
     "output_type": "execute_result"
    },
    {
     "data": {
      "image/png": "[encoded data removed]",
      "text/plain": [
       "<Figure size 864x576 with 1 Axes>"
      ]
     },
     "metadata": {},
     "output_type": "display_data"
    }
   ],
   "source": [
    "df.Product.value_counts(ascending=True).sort_values().to_frame().plot(kind='barh', figsize=(12,8), color= 'lightblue')"
   ]
  },
  {
   "cell_type": "code",
   "execution_count": 191,
   "id": "dd4d3223",
   "metadata": {},
   "outputs": [
    {
     "data": {
      "text/plain": [
       "<Figure size 1080x576 with 0 Axes>"
      ]
     },
     "metadata": {},
     "output_type": "display_data"
    },
    {
     "data": {
      "image/png": "[encoded data removed]",
      "text/plain": [
       "<Figure size 432x288 with 1 Axes>"
      ]
     },
     "metadata": {},
     "output_type": "display_data"
    }
   ],
   "source": [
    "fig = plt.figure(figsize = (15,8))\n",
    "df.groupby('Product').category_id.count().reset_index(name='count').sort_values((['count']), ascending=False).plot.barh(ylim=0, align='center');\n",
    "plt.title('Types of Categories based on Consumer Complaints submtited by the CFPB', size=25, y=1.08)\n",
    "plt.xlabel('Total number of complaints', size=15)\n",
    "plt.ylabel('Category of complaint', size=20, x=1.25)\n",
    "plt.style.use('seaborn-whitegrid')\n",
    "\n",
    "plt.show()"
   ]
  },
  {
   "cell_type": "markdown",
   "id": "a1f8e35a",
   "metadata": {},
   "source": [
    "# What we've learnt so far:\n",
    "\n",
    "So:\n",
    "- Use a subset of the dataframe, and compare accuracies for different subsets of the whole dataframe (25%, 60%, then whole dataframe of 3 million).\n",
    "- Use PCA, KNN, other classification or ML methods to support model, and see which model is best.\n",
    "- Look to see if you get the same results with PCA, does your method change the results that you got?"
   ]
  },
  {
   "cell_type": "code",
   "execution_count": 16,
   "id": "a0f3a6cc",
   "metadata": {},
   "outputs": [
    {
     "data": {
      "text/plain": [
       "25       Credit reporting, credit repair services, or o...\n",
       "84       Credit reporting, credit repair services, or o...\n",
       "103      Credit reporting, credit repair services, or o...\n",
       "104                            Checking or savings account\n",
       "111      Credit reporting, credit repair services, or o...\n",
       "                               ...                        \n",
       "30809                                             Mortgage\n",
       "30810                                        Consumer Loan\n",
       "30811                                     Credit reporting\n",
       "30812                                          Payday loan\n",
       "30828                                      Debt collection\n",
       "Name: Product, Length: 11078, dtype: object"
      ]
     },
     "execution_count": 16,
     "metadata": {},
     "output_type": "execute_result"
    }
   ],
   "source": [
    "df['Product']"
   ]
  },
  {
   "cell_type": "markdown",
   "id": "a5c9429a",
   "metadata": {},
   "source": [
    "# Support Vector Classifier (SVC) (A part of SVM)"
   ]
  },
  {
   "cell_type": "code",
   "execution_count": 17,
   "id": "053d7821",
   "metadata": {},
   "outputs": [],
   "source": [
    "tfidf = TfidfVectorizer(sublinear_tf=True,\n",
    "                       min_df = 5,\n",
    "                       norm ='l2',\n",
    "                       ngram_range = (1,2),\n",
    "                       stop_words = 'english')"
   ]
  },
  {
   "cell_type": "code",
   "execution_count": 18,
   "id": "5816ef6c",
   "metadata": {},
   "outputs": [],
   "source": [
    "features = tfidf.fit_transform(df.Consumer_complaint).toarray()"
   ]
  },
  {
   "cell_type": "code",
   "execution_count": 19,
   "id": "267be9c6",
   "metadata": {},
   "outputs": [
    {
     "data": {
      "text/plain": [
       "(11078, 29768)"
      ]
     },
     "execution_count": 19,
     "metadata": {},
     "output_type": "execute_result"
    }
   ],
   "source": [
    "labels = df.category_id\n",
    "features.shape"
   ]
  },
  {
   "cell_type": "code",
   "execution_count": 20,
   "id": "4b39c5aa",
   "metadata": {},
   "outputs": [],
   "source": [
    "# X is Consumer Complaint, Y is our Product.\n",
    "X_train, X_test, y_train, y_test = train_test_split(df['Consumer_complaint'],  df['Product'],\n",
    "                                                   random_state=0, test_size=0.20, train_size=0.80)\n",
    "# Count Vectorizer\n",
    "count_vect = CountVectorizer()\n",
    "X_train_counts = count_vect.fit_transform(X_train)\n",
    "\n",
    "# Tfidf Transformer\n",
    "tfidf_transformer = TfidfTransformer()\n",
    "X_train_tfidf = tfidf_transformer.fit_transform(X_train_counts)"
   ]
  },
  {
   "cell_type": "code",
   "execution_count": 21,
   "id": "b8bb5411",
   "metadata": {},
   "outputs": [],
   "source": [
    "clf = LinearSVC().fit(X_train_tfidf, y_train)"
   ]
  },
  {
   "cell_type": "code",
   "execution_count": 22,
   "id": "a6932c3f",
   "metadata": {},
   "outputs": [
    {
     "data": {
      "text/plain": [
       "(8862, 17733)"
      ]
     },
     "execution_count": 22,
     "metadata": {},
     "output_type": "execute_result"
    }
   ],
   "source": [
    "X_train_tfidf.shape"
   ]
  },
  {
   "cell_type": "code",
   "execution_count": 23,
   "id": "0f9296ed",
   "metadata": {},
   "outputs": [
    {
     "data": {
      "text/plain": [
       "(8862,)"
      ]
     },
     "execution_count": 23,
     "metadata": {},
     "output_type": "execute_result"
    }
   ],
   "source": [
    "y_train.shape"
   ]
  },
  {
   "cell_type": "code",
   "execution_count": 24,
   "id": "b6deb77d",
   "metadata": {},
   "outputs": [
    {
     "name": "stdout",
     "output_type": "stream",
     "text": [
      "['Credit reporting, credit repair services, or other personal consumer reports']\n"
     ]
    }
   ],
   "source": [
    "print(clf.predict(count_vect.transform(['I have outdated information on my credit report'])))"
   ]
  },
  {
   "cell_type": "code",
   "execution_count": 25,
   "id": "889f5c11",
   "metadata": {},
   "outputs": [],
   "source": [
    "y_pred = clf.predict(count_vect.transform(X_test))"
   ]
  },
  {
   "cell_type": "code",
   "execution_count": 26,
   "id": "d78b9ba0",
   "metadata": {},
   "outputs": [
    {
     "name": "stderr",
     "output_type": "stream",
     "text": [
      "/Users/omaral-shammary/opt/anaconda3/lib/python3.8/site-packages/sklearn/metrics/_classification.py:2141: UserWarning: labels size, 11078, does not match size of target_names, 17\n",
      "  warnings.warn(\n",
      "/Users/omaral-shammary/opt/anaconda3/lib/python3.8/site-packages/sklearn/metrics/_classification.py:1327: UndefinedMetricWarning: Precision and F-score are ill-defined and being set to 0.0 in labels with no predicted samples. Use `zero_division` parameter to control this behavior.\n",
      "  _warn_prf(average, modifier, msg_start, len(result))\n",
      "/Users/omaral-shammary/opt/anaconda3/lib/python3.8/site-packages/sklearn/metrics/_classification.py:1327: UndefinedMetricWarning: Recall and F-score are ill-defined and being set to 0.0 in labels with no true samples. Use `zero_division` parameter to control this behavior.\n",
      "  _warn_prf(average, modifier, msg_start, len(result))\n",
      "/Users/omaral-shammary/opt/anaconda3/lib/python3.8/site-packages/sklearn/metrics/_classification.py:1327: UndefinedMetricWarning: Precision and F-score are ill-defined and being set to 0.0 in labels with no predicted samples. Use `zero_division` parameter to control this behavior.\n",
      "  _warn_prf(average, modifier, msg_start, len(result))\n",
      "/Users/omaral-shammary/opt/anaconda3/lib/python3.8/site-packages/sklearn/metrics/_classification.py:1327: UndefinedMetricWarning: Recall and F-score are ill-defined and being set to 0.0 in labels with no true samples. Use `zero_division` parameter to control this behavior.\n",
      "  _warn_prf(average, modifier, msg_start, len(result))\n"
     ]
    },
    {
     "name": "stdout",
     "output_type": "stream",
     "text": [
      "                                                                              precision    recall  f1-score   support\n",
      "\n",
      "Credit reporting, credit repair services, or other personal consumer reports       0.84      0.84      0.84       990\n",
      "                                                 Checking or savings account       0.84      0.84      0.84       990\n",
      "                                                 Credit card or prepaid card       0.84      0.84      0.84       990\n",
      "                                                             Debt collection       0.53      0.79      0.63       107\n",
      "                                   Payday loan, title loan, or personal loan       0.84      0.84      0.84       990\n",
      "                                                                    Mortgage       0.53      0.79      0.63       107\n",
      "                          Money transfer, virtual currency, or money service       0.53      0.79      0.63       107\n",
      "                                                                Student loan       0.84      0.84      0.84       990\n",
      "                                                       Vehicle loan or lease       0.84      0.84      0.84       990\n",
      "                                                                 Credit card       0.84      0.84      0.84       990\n",
      "                                                            Credit reporting       0.52      0.65      0.58       173\n",
      "                                                                Prepaid card       0.84      0.84      0.84       990\n",
      "                                                     Bank account or service       0.84      0.84      0.84       990\n",
      "                                                               Consumer Loan       0.84      0.84      0.84       990\n",
      "                                                     Other financial service       0.52      0.65      0.58       173\n",
      "                                                                 Payday loan       0.84      0.84      0.84       990\n",
      "                                                             Money transfers       0.84      0.84      0.84       990\n",
      "\n",
      "                                                                   micro avg       0.81      0.81      0.81   6250015\n",
      "                                                                   macro avg       0.71      0.72      0.71   6250015\n",
      "                                                                weighted avg       0.81      0.81      0.81   6250015\n",
      "\n"
     ]
    },
    {
     "name": "stderr",
     "output_type": "stream",
     "text": [
      "/Users/omaral-shammary/opt/anaconda3/lib/python3.8/site-packages/sklearn/metrics/_classification.py:1327: UndefinedMetricWarning: Precision and F-score are ill-defined and being set to 0.0 in labels with no predicted samples. Use `zero_division` parameter to control this behavior.\n",
      "  _warn_prf(average, modifier, msg_start, len(result))\n",
      "/Users/omaral-shammary/opt/anaconda3/lib/python3.8/site-packages/sklearn/metrics/_classification.py:1327: UndefinedMetricWarning: Recall and F-score are ill-defined and being set to 0.0 in labels with no true samples. Use `zero_division` parameter to control this behavior.\n",
      "  _warn_prf(average, modifier, msg_start, len(result))\n"
     ]
    }
   ],
   "source": [
    "print(metrics.classification_report(y_test,y_pred, labels=df['Product'], target_names=\n",
    "                                   df['Product'].unique()))"
   ]
  },
  {
   "cell_type": "markdown",
   "id": "12fbf551",
   "metadata": {},
   "source": [
    "# BernoulliNB (Naive Bayes Classifier)"
   ]
  },
  {
   "cell_type": "code",
   "execution_count": 27,
   "id": "3431529a",
   "metadata": {},
   "outputs": [
    {
     "name": "stdout",
     "output_type": "stream",
     "text": [
      "['Credit reporting, credit repair services, or other personal consumer reports']\n"
     ]
    }
   ],
   "source": [
    "clf2 = BernoulliNB().fit(X_train_tfidf, y_train)\n",
    "print(clf2.predict(count_vect.transform(['I have outdated information on my credit report'])))"
   ]
  },
  {
   "cell_type": "code",
   "execution_count": 28,
   "id": "3203b975",
   "metadata": {},
   "outputs": [
    {
     "name": "stderr",
     "output_type": "stream",
     "text": [
      "/Users/omaral-shammary/opt/anaconda3/lib/python3.8/site-packages/sklearn/metrics/_classification.py:2141: UserWarning: labels size, 11078, does not match size of target_names, 17\n",
      "  warnings.warn(\n",
      "/Users/omaral-shammary/opt/anaconda3/lib/python3.8/site-packages/sklearn/metrics/_classification.py:1327: UndefinedMetricWarning: Precision and F-score are ill-defined and being set to 0.0 in labels with no predicted samples. Use `zero_division` parameter to control this behavior.\n",
      "  _warn_prf(average, modifier, msg_start, len(result))\n",
      "/Users/omaral-shammary/opt/anaconda3/lib/python3.8/site-packages/sklearn/metrics/_classification.py:1327: UndefinedMetricWarning: Recall and F-score are ill-defined and being set to 0.0 in labels with no true samples. Use `zero_division` parameter to control this behavior.\n",
      "  _warn_prf(average, modifier, msg_start, len(result))\n",
      "/Users/omaral-shammary/opt/anaconda3/lib/python3.8/site-packages/sklearn/metrics/_classification.py:1327: UndefinedMetricWarning: Precision and F-score are ill-defined and being set to 0.0 in labels with no predicted samples. Use `zero_division` parameter to control this behavior.\n",
      "  _warn_prf(average, modifier, msg_start, len(result))\n",
      "/Users/omaral-shammary/opt/anaconda3/lib/python3.8/site-packages/sklearn/metrics/_classification.py:1327: UndefinedMetricWarning: Recall and F-score are ill-defined and being set to 0.0 in labels with no true samples. Use `zero_division` parameter to control this behavior.\n",
      "  _warn_prf(average, modifier, msg_start, len(result))\n"
     ]
    },
    {
     "name": "stdout",
     "output_type": "stream",
     "text": [
      "                                                                              precision    recall  f1-score   support\n",
      "\n",
      "Credit reporting, credit repair services, or other personal consumer reports       0.68      0.90      0.77       990\n",
      "                                                 Checking or savings account       0.68      0.90      0.77       990\n",
      "                                                 Credit card or prepaid card       0.68      0.90      0.77       990\n",
      "                                                             Debt collection       0.50      0.33      0.40       107\n",
      "                                   Payday loan, title loan, or personal loan       0.68      0.90      0.77       990\n",
      "                                                                    Mortgage       0.50      0.33      0.40       107\n",
      "                          Money transfer, virtual currency, or money service       0.50      0.33      0.40       107\n",
      "                                                                Student loan       0.68      0.90      0.77       990\n",
      "                                                       Vehicle loan or lease       0.68      0.90      0.77       990\n",
      "                                                                 Credit card       0.68      0.90      0.77       990\n",
      "                                                            Credit reporting       0.43      0.48      0.45       173\n",
      "                                                                Prepaid card       0.68      0.90      0.77       990\n",
      "                                                     Bank account or service       0.68      0.90      0.77       990\n",
      "                                                               Consumer Loan       0.68      0.90      0.77       990\n",
      "                                                     Other financial service       0.43      0.48      0.45       173\n",
      "                                                                 Payday loan       0.68      0.90      0.77       990\n",
      "                                                             Money transfers       0.68      0.90      0.77       990\n",
      "\n",
      "                                                                   micro avg       0.65      0.82      0.73   6250015\n",
      "                                                                   macro avg       0.57      0.61      0.55   6250015\n",
      "                                                                weighted avg       0.65      0.82      0.71   6250015\n",
      "\n"
     ]
    },
    {
     "name": "stderr",
     "output_type": "stream",
     "text": [
      "/Users/omaral-shammary/opt/anaconda3/lib/python3.8/site-packages/sklearn/metrics/_classification.py:1327: UndefinedMetricWarning: Precision and F-score are ill-defined and being set to 0.0 in labels with no predicted samples. Use `zero_division` parameter to control this behavior.\n",
      "  _warn_prf(average, modifier, msg_start, len(result))\n",
      "/Users/omaral-shammary/opt/anaconda3/lib/python3.8/site-packages/sklearn/metrics/_classification.py:1327: UndefinedMetricWarning: Recall and F-score are ill-defined and being set to 0.0 in labels with no true samples. Use `zero_division` parameter to control this behavior.\n",
      "  _warn_prf(average, modifier, msg_start, len(result))\n"
     ]
    }
   ],
   "source": [
    "y_pred = clf2.predict(count_vect.transform(X_test))\n",
    "print(metrics.classification_report(y_test,y_pred, labels=df['Product'], target_names=\n",
    "                                   df['Product'].unique()))"
   ]
  },
  {
   "cell_type": "markdown",
   "id": "ef11c87f",
   "metadata": {},
   "source": [
    "# MultinomialNB (Naive Bayes Classifier)"
   ]
  },
  {
   "cell_type": "code",
   "execution_count": 29,
   "id": "b0190e7a",
   "metadata": {},
   "outputs": [
    {
     "name": "stdout",
     "output_type": "stream",
     "text": [
      "['Credit reporting, credit repair services, or other personal consumer reports']\n"
     ]
    }
   ],
   "source": [
    "clf3 = MultinomialNB().fit(X_train_tfidf, y_train)\n",
    "print(clf3.predict(count_vect.transform(['I have outdated information on my credit report'])))"
   ]
  },
  {
   "cell_type": "code",
   "execution_count": 30,
   "id": "60209696",
   "metadata": {},
   "outputs": [],
   "source": [
    "y_pred = clf3.predict(count_vect.transform(X_test))"
   ]
  },
  {
   "cell_type": "code",
   "execution_count": 31,
   "id": "2b2468f6",
   "metadata": {},
   "outputs": [
    {
     "name": "stderr",
     "output_type": "stream",
     "text": [
      "/Users/omaral-shammary/opt/anaconda3/lib/python3.8/site-packages/sklearn/metrics/_classification.py:2141: UserWarning: labels size, 11078, does not match size of target_names, 17\n",
      "  warnings.warn(\n",
      "/Users/omaral-shammary/opt/anaconda3/lib/python3.8/site-packages/sklearn/metrics/_classification.py:1327: UndefinedMetricWarning: Precision and F-score are ill-defined and being set to 0.0 in labels with no predicted samples. Use `zero_division` parameter to control this behavior.\n",
      "  _warn_prf(average, modifier, msg_start, len(result))\n",
      "/Users/omaral-shammary/opt/anaconda3/lib/python3.8/site-packages/sklearn/metrics/_classification.py:1327: UndefinedMetricWarning: Recall and F-score are ill-defined and being set to 0.0 in labels with no true samples. Use `zero_division` parameter to control this behavior.\n",
      "  _warn_prf(average, modifier, msg_start, len(result))\n",
      "/Users/omaral-shammary/opt/anaconda3/lib/python3.8/site-packages/sklearn/metrics/_classification.py:1327: UndefinedMetricWarning: Precision and F-score are ill-defined and being set to 0.0 in labels with no predicted samples. Use `zero_division` parameter to control this behavior.\n",
      "  _warn_prf(average, modifier, msg_start, len(result))\n",
      "/Users/omaral-shammary/opt/anaconda3/lib/python3.8/site-packages/sklearn/metrics/_classification.py:1327: UndefinedMetricWarning: Recall and F-score are ill-defined and being set to 0.0 in labels with no true samples. Use `zero_division` parameter to control this behavior.\n",
      "  _warn_prf(average, modifier, msg_start, len(result))\n"
     ]
    },
    {
     "name": "stdout",
     "output_type": "stream",
     "text": [
      "                                                                              precision    recall  f1-score   support\n",
      "\n",
      "Credit reporting, credit repair services, or other personal consumer reports       0.45      1.00      0.62       990\n",
      "                                                 Checking or savings account       0.45      1.00      0.62       990\n",
      "                                                 Credit card or prepaid card       0.45      1.00      0.62       990\n",
      "                                                             Debt collection       0.00      0.00      0.00       107\n",
      "                                   Payday loan, title loan, or personal loan       0.45      1.00      0.62       990\n",
      "                                                                    Mortgage       0.00      0.00      0.00       107\n",
      "                          Money transfer, virtual currency, or money service       0.00      0.00      0.00       107\n",
      "                                                                Student loan       0.45      1.00      0.62       990\n",
      "                                                       Vehicle loan or lease       0.45      1.00      0.62       990\n",
      "                                                                 Credit card       0.45      1.00      0.62       990\n",
      "                                                            Credit reporting       0.00      0.00      0.00       173\n",
      "                                                                Prepaid card       0.45      1.00      0.62       990\n",
      "                                                     Bank account or service       0.45      1.00      0.62       990\n",
      "                                                               Consumer Loan       0.45      1.00      0.62       990\n",
      "                                                     Other financial service       0.00      0.00      0.00       173\n",
      "                                                                 Payday loan       0.45      1.00      0.62       990\n",
      "                                                             Money transfers       0.45      1.00      0.62       990\n",
      "\n",
      "                                                                   micro avg       0.46      0.80      0.58   6250015\n",
      "                                                                   macro avg       0.43      0.47      0.31   6250015\n",
      "                                                                weighted avg       0.50      0.80      0.51   6250015\n",
      "\n"
     ]
    },
    {
     "name": "stderr",
     "output_type": "stream",
     "text": [
      "/Users/omaral-shammary/opt/anaconda3/lib/python3.8/site-packages/sklearn/metrics/_classification.py:1327: UndefinedMetricWarning: Precision and F-score are ill-defined and being set to 0.0 in labels with no predicted samples. Use `zero_division` parameter to control this behavior.\n",
      "  _warn_prf(average, modifier, msg_start, len(result))\n",
      "/Users/omaral-shammary/opt/anaconda3/lib/python3.8/site-packages/sklearn/metrics/_classification.py:1327: UndefinedMetricWarning: Recall and F-score are ill-defined and being set to 0.0 in labels with no true samples. Use `zero_division` parameter to control this behavior.\n",
      "  _warn_prf(average, modifier, msg_start, len(result))\n"
     ]
    }
   ],
   "source": [
    "print(metrics.classification_report(y_test,y_pred, labels=df.Product, target_names=\n",
    "                                   df['Product'].unique()))"
   ]
  },
  {
   "cell_type": "markdown",
   "id": "d8431f3f",
   "metadata": {},
   "source": [
    "# SVD / Singular Value Decomposition"
   ]
  },
  {
   "cell_type": "code",
   "execution_count": 32,
   "id": "3df79a6f",
   "metadata": {},
   "outputs": [],
   "source": [
    "from sklearn.decomposition import PCA\n",
    "from sklearn.preprocessing import StandardScaler"
   ]
  },
  {
   "cell_type": "code",
   "execution_count": 172,
   "id": "fb861be0",
   "metadata": {},
   "outputs": [],
   "source": [
    "from sklearn.decomposition import TruncatedSVD\n",
    "svd = TruncatedSVD(n_components=5, n_iter = 7, random_state=42)\n",
    "clf4 = svd.fit_transform(X_train_tfidf,y_train)"
   ]
  },
  {
   "cell_type": "code",
   "execution_count": 173,
   "id": "2b05253b",
   "metadata": {},
   "outputs": [
    {
     "name": "stdout",
     "output_type": "stream",
     "text": [
      "0.1063197532264106\n"
     ]
    }
   ],
   "source": [
    "print(svd.explained_variance_ratio_.sum())"
   ]
  },
  {
   "cell_type": "code",
   "execution_count": 174,
   "id": "0626273d",
   "metadata": {},
   "outputs": [
    {
     "name": "stdout",
     "output_type": "stream",
     "text": [
      "[0.0176785  0.03942964 0.02097781 0.01463794 0.01359586]\n"
     ]
    }
   ],
   "source": [
    "print(svd.explained_variance_ratio_)"
   ]
  },
  {
   "cell_type": "code",
   "execution_count": 34,
   "id": "e3a23b0e",
   "metadata": {},
   "outputs": [
    {
     "name": "stdout",
     "output_type": "stream",
     "text": [
      "[0.0176785  0.03942964 0.02097781 0.01463794 0.01359586]\n"
     ]
    }
   ],
   "source": [
    "print(svd.explained_variance_ratio_)"
   ]
  },
  {
   "cell_type": "code",
   "execution_count": 64,
   "id": "5e78720d",
   "metadata": {},
   "outputs": [
    {
     "name": "stdout",
     "output_type": "stream",
     "text": [
      "0.1063197532264106\n"
     ]
    }
   ],
   "source": [
    "print(svd.explained_variance_ratio_.sum())"
   ]
  },
  {
   "cell_type": "code",
   "execution_count": 65,
   "id": "a94da5dc",
   "metadata": {
    "scrolled": true
   },
   "outputs": [
    {
     "name": "stdout",
     "output_type": "stream",
     "text": [
      "[35.7638721  17.62535328 12.74166296 10.62761913 10.24189053]\n"
     ]
    }
   ],
   "source": [
    "print(svd.singular_values_)"
   ]
  },
  {
   "cell_type": "markdown",
   "id": "e1e232f9",
   "metadata": {},
   "source": [
    "# PCA"
   ]
  },
  {
   "cell_type": "code",
   "execution_count": null,
   "id": "03b91a31",
   "metadata": {},
   "outputs": [],
   "source": [
    "# X is Consumer Complaint, Y is our Product.\n",
    "X_train, X_test, y_train, y_test = train_test_split(df['Consumer_complaint'],  df['Product'],\n",
    "                                                   random_state=0, test_size=0.20, train_size=0.80)\n",
    "# Count Vectorizer\n",
    "count_vect = CountVectorizer()\n",
    "X_train_counts = count_vect.fit_transform(X_train)\n",
    "\n",
    "# Tfidf Transformer\n",
    "tfidf_transformer = TfidfTransformer()\n",
    "X_train_tfidf = tfidf_transformer.fit_transform(X_train_counts)"
   ]
  },
  {
   "cell_type": "code",
   "execution_count": 161,
   "id": "4083a400",
   "metadata": {},
   "outputs": [
    {
     "name": "stderr",
     "output_type": "stream",
     "text": [
      "/Users/omaral-shammary/opt/anaconda3/lib/python3.8/site-packages/sklearn/utils/validation.py:727: FutureWarning: np.matrix usage is deprecated in 1.0 and will raise a TypeError in 1.2. Please convert to a numpy array with np.asarray. For more information see: https://numpy.org/doc/stable/reference/generated/numpy.matrix.html\n",
      "  warnings.warn(\n",
      "/Users/omaral-shammary/opt/anaconda3/lib/python3.8/site-packages/sklearn/utils/validation.py:727: FutureWarning: np.matrix usage is deprecated in 1.0 and will raise a TypeError in 1.2. Please convert to a numpy array with np.asarray. For more information see: https://numpy.org/doc/stable/reference/generated/numpy.matrix.html\n",
      "  warnings.warn(\n"
     ]
    },
    {
     "data": {
      "image/png": "[encoded data removed]",
      "text/plain": [
       "<Figure size 432x288 with 1 Axes>"
      ]
     },
     "metadata": {},
     "output_type": "display_data"
    }
   ],
   "source": [
    "from sklearn.feature_extraction.text import CountVectorizer, TfidfTransformer\n",
    "from sklearn.decomposition import PCA\n",
    "from sklearn.pipeline import Pipeline\n",
    "import matplotlib.pyplot as plt\n",
    "\n",
    "pipeline = Pipeline([\n",
    "    ('vect', CountVectorizer()),\n",
    "    ('tfidf', TfidfTransformer()),\n",
    "])    \n",
    "\n",
    "Xt = pipeline.fit_transform(X_train, y_train).todense()\n",
    "\n",
    "pca = PCA(n_components=10).fit(Xt)\n",
    "data2D = pca.transform(Xt)\n",
    "plt.scatter(data2D[:,0], data2D[:,1], color = 'orange')\n",
    "plt.title('PCA Representation of Consumer Complaints')\n",
    "plt.style.use('seaborn-whitegrid')\n",
    "plt.show()\n",
    "#not required if using ipython n"
   ]
  },
  {
   "cell_type": "markdown",
   "id": "2abcd4a5",
   "metadata": {},
   "source": [
    "# LSA "
   ]
  },
  {
   "cell_type": "code",
   "execution_count": 162,
   "id": "649686ec",
   "metadata": {},
   "outputs": [
    {
     "data": {
      "text/html": [
       "<style>#sk-container-id-5 {color: black;background-color: white;}#sk-container-id-5 pre{padding: 0;}#sk-container-id-5 div.sk-toggleable {background-color: white;}#sk-container-id-5 label.sk-toggleable__label {cursor: pointer;display: block;width: 100%;margin-bottom: 0;padding: 0.3em;box-sizing: border-box;text-align: center;}#sk-container-id-5 label.sk-toggleable__label-arrow:before {content: \"▸\";float: left;margin-right: 0.25em;color: #696969;}#sk-container-id-5 label.sk-toggleable__label-arrow:hover:before {color: black;}#sk-container-id-5 div.sk-estimator:hover label.sk-toggleable__label-arrow:before {color: black;}#sk-container-id-5 div.sk-toggleable__content {max-height: 0;max-width: 0;overflow: hidden;text-align: left;background-color: #f0f8ff;}#sk-container-id-5 div.sk-toggleable__content pre {margin: 0.2em;color: black;border-radius: 0.25em;background-color: #f0f8ff;}#sk-container-id-5 input.sk-toggleable__control:checked~div.sk-toggleable__content {max-height: 200px;max-width: 100%;overflow: auto;}#sk-container-id-5 input.sk-toggleable__control:checked~label.sk-toggleable__label-arrow:before {content: \"▾\";}#sk-container-id-5 div.sk-estimator input.sk-toggleable__control:checked~label.sk-toggleable__label {background-color: #d4ebff;}#sk-container-id-5 div.sk-label input.sk-toggleable__control:checked~label.sk-toggleable__label {background-color: #d4ebff;}#sk-container-id-5 input.sk-hidden--visually {border: 0;clip: rect(1px 1px 1px 1px);clip: rect(1px, 1px, 1px, 1px);height: 1px;margin: -1px;overflow: hidden;padding: 0;position: absolute;width: 1px;}#sk-container-id-5 div.sk-estimator {font-family: monospace;background-color: #f0f8ff;border: 1px dotted black;border-radius: 0.25em;box-sizing: border-box;margin-bottom: 0.5em;}#sk-container-id-5 div.sk-estimator:hover {background-color: #d4ebff;}#sk-container-id-5 div.sk-parallel-item::after {content: \"\";width: 100%;border-bottom: 1px solid gray;flex-grow: 1;}#sk-container-id-5 div.sk-label:hover label.sk-toggleable__label {background-color: #d4ebff;}#sk-container-id-5 div.sk-serial::before {content: \"\";position: absolute;border-left: 1px solid gray;box-sizing: border-box;top: 0;bottom: 0;left: 50%;z-index: 0;}#sk-container-id-5 div.sk-serial {display: flex;flex-direction: column;align-items: center;background-color: white;padding-right: 0.2em;padding-left: 0.2em;position: relative;}#sk-container-id-5 div.sk-item {position: relative;z-index: 1;}#sk-container-id-5 div.sk-parallel {display: flex;align-items: stretch;justify-content: center;background-color: white;position: relative;}#sk-container-id-5 div.sk-item::before, #sk-container-id-5 div.sk-parallel-item::before {content: \"\";position: absolute;border-left: 1px solid gray;box-sizing: border-box;top: 0;bottom: 0;left: 50%;z-index: -1;}#sk-container-id-5 div.sk-parallel-item {display: flex;flex-direction: column;z-index: 1;position: relative;background-color: white;}#sk-container-id-5 div.sk-parallel-item:first-child::after {align-self: flex-end;width: 50%;}#sk-container-id-5 div.sk-parallel-item:last-child::after {align-self: flex-start;width: 50%;}#sk-container-id-5 div.sk-parallel-item:only-child::after {width: 0;}#sk-container-id-5 div.sk-dashed-wrapped {border: 1px dashed gray;margin: 0 0.4em 0.5em 0.4em;box-sizing: border-box;padding-bottom: 0.4em;background-color: white;}#sk-container-id-5 div.sk-label label {font-family: monospace;font-weight: bold;display: inline-block;line-height: 1.2em;}#sk-container-id-5 div.sk-label-container {text-align: center;}#sk-container-id-5 div.sk-container {/* jupyter's `normalize.less` sets `[hidden] { display: none; }` but bootstrap.min.css set `[hidden] { display: none !important; }` so we also need the `!important` here to be able to override the default hidden behavior on the sphinx rendered scikit-learn.org. See: https://github.com/scikit-learn/scikit-learn/issues/21755 */display: inline-block !important;position: relative;}#sk-container-id-5 div.sk-text-repr-fallback {display: none;}</style><div id=\"sk-container-id-5\" class=\"sk-top-container\"><div class=\"sk-text-repr-fallback\"><pre>TruncatedSVD(n_components=5, n_iter=7, random_state=42)</pre><b>In a Jupyter environment, please rerun this cell to show the HTML representation or trust the notebook. <br />On GitHub, the HTML representation is unable to render, please try loading this page with nbviewer.org.</b></div><div class=\"sk-container\" hidden><div class=\"sk-item\"><div class=\"sk-estimator sk-toggleable\"><input class=\"sk-toggleable__control sk-hidden--visually\" id=\"sk-estimator-id-5\" type=\"checkbox\" checked><label for=\"sk-estimator-id-5\" class=\"sk-toggleable__label sk-toggleable__label-arrow\">TruncatedSVD</label><div class=\"sk-toggleable__content\"><pre>TruncatedSVD(n_components=5, n_iter=7, random_state=42)</pre></div></div></div></div></div>"
      ],
      "text/plain": [
       "TruncatedSVD(n_components=5, n_iter=7, random_state=42)"
      ]
     },
     "execution_count": 162,
     "metadata": {},
     "output_type": "execute_result"
    }
   ],
   "source": [
    "svd = TruncatedSVD(n_components=5, n_iter = 7, random_state=42)\n",
    "svd\n",
    "#clf4 = svd.fit_transform(X_train_tfidf,y_train)"
   ]
  },
  {
   "cell_type": "code",
   "execution_count": 165,
   "id": "7f2cf828",
   "metadata": {},
   "outputs": [
    {
     "name": "stderr",
     "output_type": "stream",
     "text": [
      "/Users/omaral-shammary/opt/anaconda3/lib/python3.8/site-packages/sklearn/utils/validation.py:727: FutureWarning: np.matrix usage is deprecated in 1.0 and will raise a TypeError in 1.2. Please convert to a numpy array with np.asarray. For more information see: https://numpy.org/doc/stable/reference/generated/numpy.matrix.html\n",
      "  warnings.warn(\n"
     ]
    },
    {
     "data": {
      "image/png": "[encoded data removed]",
      "text/plain": [
       "<Figure size 432x288 with 1 Axes>"
      ]
     },
     "metadata": {},
     "output_type": "display_data"
    }
   ],
   "source": [
    "LSA = svd.fit_transform(Xt)\n",
    "plt.title('LSA of Consumer Complaints')\n",
    "plt.scatter(LSA[:,0], LSA[:,1], color = 'gray')\n",
    "plt.show()"
   ]
  },
  {
   "cell_type": "code",
   "execution_count": 170,
   "id": "1b6cba1c",
   "metadata": {},
   "outputs": [
    {
     "name": "stderr",
     "output_type": "stream",
     "text": [
      "/Users/omaral-shammary/opt/anaconda3/lib/python3.8/site-packages/sklearn/utils/validation.py:727: FutureWarning: np.matrix usage is deprecated in 1.0 and will raise a TypeError in 1.2. Please convert to a numpy array with np.asarray. For more information see: https://numpy.org/doc/stable/reference/generated/numpy.matrix.html\n",
      "  warnings.warn(\n"
     ]
    },
    {
     "ename": "KeyboardInterrupt",
     "evalue": "",
     "output_type": "error",
     "traceback": [
      "\u001b[0;31m---------------------------------------------------------------------------\u001b[0m",
      "\u001b[0;31mKeyboardInterrupt\u001b[0m                         Traceback (most recent call last)",
      "Input \u001b[0;32mIn [170]\u001b[0m, in \u001b[0;36m<cell line: 3>\u001b[0;34m()\u001b[0m\n\u001b[1;32m      1\u001b[0m \u001b[38;5;28;01mfrom\u001b[39;00m \u001b[38;5;21;01msklearn\u001b[39;00m\u001b[38;5;21;01m.\u001b[39;00m\u001b[38;5;21;01mcluster\u001b[39;00m \u001b[38;5;28;01mimport\u001b[39;00m KMeans\n\u001b[0;32m----> 3\u001b[0m kmeans \u001b[38;5;241m=\u001b[39m \u001b[43mKMeans\u001b[49m\u001b[43m(\u001b[49m\u001b[43mn_clusters\u001b[49m\u001b[38;5;241;43m=\u001b[39;49m\u001b[38;5;241;43m10\u001b[39;49m\u001b[43m)\u001b[49m\u001b[38;5;241;43m.\u001b[39;49m\u001b[43mfit\u001b[49m\u001b[43m(\u001b[49m\u001b[43mXt\u001b[49m\u001b[43m)\u001b[49m\n\u001b[1;32m      4\u001b[0m centersdd \u001b[38;5;241m=\u001b[39m LSA\u001b[38;5;241m.\u001b[39mtransform(kmeans\u001b[38;5;241m.\u001b[39mcluster_centers_)\n\u001b[1;32m      6\u001b[0m \u001b[38;5;66;03m#plt.hold(True)\u001b[39;00m\n",
      "File \u001b[0;32m~/opt/anaconda3/lib/python3.8/site-packages/sklearn/cluster/_kmeans.py:1408\u001b[0m, in \u001b[0;36mKMeans.fit\u001b[0;34m(self, X, y, sample_weight)\u001b[0m\n\u001b[1;32m   1404\u001b[0m best_inertia, best_labels \u001b[38;5;241m=\u001b[39m \u001b[38;5;28;01mNone\u001b[39;00m, \u001b[38;5;28;01mNone\u001b[39;00m\n\u001b[1;32m   1406\u001b[0m \u001b[38;5;28;01mfor\u001b[39;00m i \u001b[38;5;129;01min\u001b[39;00m \u001b[38;5;28mrange\u001b[39m(\u001b[38;5;28mself\u001b[39m\u001b[38;5;241m.\u001b[39m_n_init):\n\u001b[1;32m   1407\u001b[0m     \u001b[38;5;66;03m# Initialize centers\u001b[39;00m\n\u001b[0;32m-> 1408\u001b[0m     centers_init \u001b[38;5;241m=\u001b[39m \u001b[38;5;28;43mself\u001b[39;49m\u001b[38;5;241;43m.\u001b[39;49m\u001b[43m_init_centroids\u001b[49m\u001b[43m(\u001b[49m\n\u001b[1;32m   1409\u001b[0m \u001b[43m        \u001b[49m\u001b[43mX\u001b[49m\u001b[43m,\u001b[49m\u001b[43m \u001b[49m\u001b[43mx_squared_norms\u001b[49m\u001b[38;5;241;43m=\u001b[39;49m\u001b[43mx_squared_norms\u001b[49m\u001b[43m,\u001b[49m\u001b[43m \u001b[49m\u001b[43minit\u001b[49m\u001b[38;5;241;43m=\u001b[39;49m\u001b[43minit\u001b[49m\u001b[43m,\u001b[49m\u001b[43m \u001b[49m\u001b[43mrandom_state\u001b[49m\u001b[38;5;241;43m=\u001b[39;49m\u001b[43mrandom_state\u001b[49m\n\u001b[1;32m   1410\u001b[0m \u001b[43m    \u001b[49m\u001b[43m)\u001b[49m\n\u001b[1;32m   1411\u001b[0m     \u001b[38;5;28;01mif\u001b[39;00m \u001b[38;5;28mself\u001b[39m\u001b[38;5;241m.\u001b[39mverbose:\n\u001b[1;32m   1412\u001b[0m         \u001b[38;5;28mprint\u001b[39m(\u001b[38;5;124m\"\u001b[39m\u001b[38;5;124mInitialization complete\u001b[39m\u001b[38;5;124m\"\u001b[39m)\n",
      "File \u001b[0;32m~/opt/anaconda3/lib/python3.8/site-packages/sklearn/cluster/_kmeans.py:952\u001b[0m, in \u001b[0;36m_BaseKMeans._init_centroids\u001b[0;34m(self, X, x_squared_norms, init, random_state, init_size, n_centroids)\u001b[0m\n\u001b[1;32m    949\u001b[0m     n_samples \u001b[38;5;241m=\u001b[39m X\u001b[38;5;241m.\u001b[39mshape[\u001b[38;5;241m0\u001b[39m]\n\u001b[1;32m    951\u001b[0m \u001b[38;5;28;01mif\u001b[39;00m \u001b[38;5;28misinstance\u001b[39m(init, \u001b[38;5;28mstr\u001b[39m) \u001b[38;5;129;01mand\u001b[39;00m init \u001b[38;5;241m==\u001b[39m \u001b[38;5;124m\"\u001b[39m\u001b[38;5;124mk-means++\u001b[39m\u001b[38;5;124m\"\u001b[39m:\n\u001b[0;32m--> 952\u001b[0m     centers, _ \u001b[38;5;241m=\u001b[39m \u001b[43m_kmeans_plusplus\u001b[49m\u001b[43m(\u001b[49m\n\u001b[1;32m    953\u001b[0m \u001b[43m        \u001b[49m\u001b[43mX\u001b[49m\u001b[43m,\u001b[49m\n\u001b[1;32m    954\u001b[0m \u001b[43m        \u001b[49m\u001b[43mn_clusters\u001b[49m\u001b[43m,\u001b[49m\n\u001b[1;32m    955\u001b[0m \u001b[43m        \u001b[49m\u001b[43mrandom_state\u001b[49m\u001b[38;5;241;43m=\u001b[39;49m\u001b[43mrandom_state\u001b[49m\u001b[43m,\u001b[49m\n\u001b[1;32m    956\u001b[0m \u001b[43m        \u001b[49m\u001b[43mx_squared_norms\u001b[49m\u001b[38;5;241;43m=\u001b[39;49m\u001b[43mx_squared_norms\u001b[49m\u001b[43m,\u001b[49m\n\u001b[1;32m    957\u001b[0m \u001b[43m    \u001b[49m\u001b[43m)\u001b[49m\n\u001b[1;32m    958\u001b[0m \u001b[38;5;28;01melif\u001b[39;00m \u001b[38;5;28misinstance\u001b[39m(init, \u001b[38;5;28mstr\u001b[39m) \u001b[38;5;129;01mand\u001b[39;00m init \u001b[38;5;241m==\u001b[39m \u001b[38;5;124m\"\u001b[39m\u001b[38;5;124mrandom\u001b[39m\u001b[38;5;124m\"\u001b[39m:\n\u001b[1;32m    959\u001b[0m     seeds \u001b[38;5;241m=\u001b[39m random_state\u001b[38;5;241m.\u001b[39mpermutation(n_samples)[:n_clusters]\n",
      "File \u001b[0;32m~/opt/anaconda3/lib/python3.8/site-packages/sklearn/cluster/_kmeans.py:224\u001b[0m, in \u001b[0;36m_kmeans_plusplus\u001b[0;34m(X, n_clusters, x_squared_norms, random_state, n_local_trials)\u001b[0m\n\u001b[1;32m    221\u001b[0m np\u001b[38;5;241m.\u001b[39mclip(candidate_ids, \u001b[38;5;28;01mNone\u001b[39;00m, closest_dist_sq\u001b[38;5;241m.\u001b[39msize \u001b[38;5;241m-\u001b[39m \u001b[38;5;241m1\u001b[39m, out\u001b[38;5;241m=\u001b[39mcandidate_ids)\n\u001b[1;32m    223\u001b[0m \u001b[38;5;66;03m# Compute distances to center candidates\u001b[39;00m\n\u001b[0;32m--> 224\u001b[0m distance_to_candidates \u001b[38;5;241m=\u001b[39m \u001b[43m_euclidean_distances\u001b[49m\u001b[43m(\u001b[49m\n\u001b[1;32m    225\u001b[0m \u001b[43m    \u001b[49m\u001b[43mX\u001b[49m\u001b[43m[\u001b[49m\u001b[43mcandidate_ids\u001b[49m\u001b[43m]\u001b[49m\u001b[43m,\u001b[49m\u001b[43m \u001b[49m\u001b[43mX\u001b[49m\u001b[43m,\u001b[49m\u001b[43m \u001b[49m\u001b[43mY_norm_squared\u001b[49m\u001b[38;5;241;43m=\u001b[39;49m\u001b[43mx_squared_norms\u001b[49m\u001b[43m,\u001b[49m\u001b[43m \u001b[49m\u001b[43msquared\u001b[49m\u001b[38;5;241;43m=\u001b[39;49m\u001b[38;5;28;43;01mTrue\u001b[39;49;00m\n\u001b[1;32m    226\u001b[0m \u001b[43m\u001b[49m\u001b[43m)\u001b[49m\n\u001b[1;32m    228\u001b[0m \u001b[38;5;66;03m# update closest distances squared and potential for each candidate\u001b[39;00m\n\u001b[1;32m    229\u001b[0m np\u001b[38;5;241m.\u001b[39mminimum(closest_dist_sq, distance_to_candidates, out\u001b[38;5;241m=\u001b[39mdistance_to_candidates)\n",
      "File \u001b[0;32m~/opt/anaconda3/lib/python3.8/site-packages/sklearn/metrics/pairwise.py:371\u001b[0m, in \u001b[0;36m_euclidean_distances\u001b[0;34m(X, Y, X_norm_squared, Y_norm_squared, squared)\u001b[0m\n\u001b[1;32m    368\u001b[0m     distances \u001b[38;5;241m=\u001b[39m _euclidean_distances_upcast(X, XX, Y, YY)\n\u001b[1;32m    369\u001b[0m \u001b[38;5;28;01melse\u001b[39;00m:\n\u001b[1;32m    370\u001b[0m     \u001b[38;5;66;03m# if dtype is already float64, no need to chunk and upcast\u001b[39;00m\n\u001b[0;32m--> 371\u001b[0m     distances \u001b[38;5;241m=\u001b[39m \u001b[38;5;241m-\u001b[39m\u001b[38;5;241m2\u001b[39m \u001b[38;5;241m*\u001b[39m \u001b[43msafe_sparse_dot\u001b[49m\u001b[43m(\u001b[49m\u001b[43mX\u001b[49m\u001b[43m,\u001b[49m\u001b[43m \u001b[49m\u001b[43mY\u001b[49m\u001b[38;5;241;43m.\u001b[39;49m\u001b[43mT\u001b[49m\u001b[43m,\u001b[49m\u001b[43m \u001b[49m\u001b[43mdense_output\u001b[49m\u001b[38;5;241;43m=\u001b[39;49m\u001b[38;5;28;43;01mTrue\u001b[39;49;00m\u001b[43m)\u001b[49m\n\u001b[1;32m    372\u001b[0m     distances \u001b[38;5;241m+\u001b[39m\u001b[38;5;241m=\u001b[39m XX\n\u001b[1;32m    373\u001b[0m     distances \u001b[38;5;241m+\u001b[39m\u001b[38;5;241m=\u001b[39m YY\n",
      "File \u001b[0;32m~/opt/anaconda3/lib/python3.8/site-packages/sklearn/utils/extmath.py:152\u001b[0m, in \u001b[0;36msafe_sparse_dot\u001b[0;34m(a, b, dense_output)\u001b[0m\n\u001b[1;32m    150\u001b[0m         ret \u001b[38;5;241m=\u001b[39m np\u001b[38;5;241m.\u001b[39mdot(a, b)\n\u001b[1;32m    151\u001b[0m \u001b[38;5;28;01melse\u001b[39;00m:\n\u001b[0;32m--> 152\u001b[0m     ret \u001b[38;5;241m=\u001b[39m \u001b[43ma\u001b[49m\u001b[43m \u001b[49m\u001b[38;5;241;43m@\u001b[39;49m\u001b[43m \u001b[49m\u001b[43mb\u001b[49m\n\u001b[1;32m    154\u001b[0m \u001b[38;5;28;01mif\u001b[39;00m (\n\u001b[1;32m    155\u001b[0m     sparse\u001b[38;5;241m.\u001b[39missparse(a)\n\u001b[1;32m    156\u001b[0m     \u001b[38;5;129;01mand\u001b[39;00m sparse\u001b[38;5;241m.\u001b[39missparse(b)\n\u001b[1;32m    157\u001b[0m     \u001b[38;5;129;01mand\u001b[39;00m dense_output\n\u001b[1;32m    158\u001b[0m     \u001b[38;5;129;01mand\u001b[39;00m \u001b[38;5;28mhasattr\u001b[39m(ret, \u001b[38;5;124m\"\u001b[39m\u001b[38;5;124mtoarray\u001b[39m\u001b[38;5;124m\"\u001b[39m)\n\u001b[1;32m    159\u001b[0m ):\n\u001b[1;32m    160\u001b[0m     \u001b[38;5;28;01mreturn\u001b[39;00m ret\u001b[38;5;241m.\u001b[39mtoarray()\n",
      "\u001b[0;31mKeyboardInterrupt\u001b[0m: "
     ]
    }
   ],
   "source": [
    "from sklearn.cluster import KMeans\n",
    "\n",
    "kmeans = KMeans(n_clusters=10).fit(Xt)\n",
    "centersdd = LSA.transform(kmeans.cluster_centers_)\n",
    "\n",
    "#plt.hold(True)\n",
    "plt.scatter(LSA[:,0], LSA[:,1], \n",
    "            marker='x', s=200, linewidths=3, c='r')\n",
    "plt.title('Indication of Differences between Specific Consumer Complaints') \n",
    "plt.style.use('seaborn-whitegrid')\n",
    "plt.show()"
   ]
  },
  {
   "cell_type": "code",
   "execution_count": 156,
   "id": "daf385cc",
   "metadata": {},
   "outputs": [
    {
     "data": {
      "text/plain": [
       "25229    I spoked to an Agent Friday morning ( XX/XX/20...\n",
       "13188    The following accounts were a result of fraud....\n",
       "28519    XXXX is participating in deceptive practices I...\n",
       "5134     This is an additional complaint to Bank of Ame...\n",
       "1417     Unauthorized purchase of {$300.00} made via  X...\n",
       "                               ...                        \n",
       "12216    The account below was just readied to my credi...\n",
       "8290     Went to The XXXX XXXX for a routine medical ap...\n",
       "26890    On XXXX XXXX I had got a message on XXXX from ...\n",
       "29930    These can be combined On my credit report, you...\n",
       "7145     TransUnion LLC XXXX. XXXX XXXX XXXX, PA XXXX X...\n",
       "Name: Consumer_complaint, Length: 8862, dtype: object"
      ]
     },
     "execution_count": 156,
     "metadata": {},
     "output_type": "execute_result"
    }
   ],
   "source": [
    "X_train"
   ]
  },
  {
   "cell_type": "markdown",
   "id": "94718332",
   "metadata": {},
   "source": [
    "# KMeans"
   ]
  },
  {
   "cell_type": "code",
   "execution_count": 159,
   "id": "aee4e377",
   "metadata": {},
   "outputs": [
    {
     "name": "stderr",
     "output_type": "stream",
     "text": [
      "/Users/omaral-shammary/opt/anaconda3/lib/python3.8/site-packages/sklearn/utils/validation.py:727: FutureWarning: np.matrix usage is deprecated in 1.0 and will raise a TypeError in 1.2. Please convert to a numpy array with np.asarray. For more information see: https://numpy.org/doc/stable/reference/generated/numpy.matrix.html\n",
      "  warnings.warn(\n"
     ]
    },
    {
     "data": {
      "image/png": "[encoded data removed]",
      "text/plain": [
       "<Figure size 432x288 with 1 Axes>"
      ]
     },
     "metadata": {},
     "output_type": "display_data"
    }
   ],
   "source": [
    "from sklearn.cluster import KMeans\n",
    "\n",
    "kmeans = KMeans(n_clusters=10).fit(Xt)\n",
    "centers2D = pca.transform(kmeans.cluster_centers_)\n",
    "\n",
    "#plt.hold(True)\n",
    "plt.scatter(centers2D[:,0], centers2D[:,1], \n",
    "            marker='x', s=200, linewidths=3, c='r')\n",
    "plt.title('Indication of Differences between Specific Consumer Complaints')\n",
    "plt.show()  \n",
    "plt.style.use('seaborn-whitegrid')"
   ]
  },
  {
   "cell_type": "markdown",
   "id": "7201c8d0",
   "metadata": {},
   "source": [
    "# Create graph of top keywords that consumers have had issues with\n",
    "# In this case, we see that there is a lot of misinformation/incorrect on reports\n",
    "# Another is problems with credit reporting companies handinling an investigation of an existing problem.\n",
    "# Attempts to collect debt not owed, improper use of report, and a lot more. "
   ]
  },
  {
   "cell_type": "code",
   "execution_count": 44,
   "id": "3d38b42d",
   "metadata": {},
   "outputs": [],
   "source": [
    "# If we want to display our dataframes any further for analysis\n",
    "\n",
    "#pd.set_option('display.max_rows', 100)\n",
    "#pd.set_option('display.max_columns', 500)\n",
    "#pd.set_option('display.width', 1000)"
   ]
  },
  {
   "cell_type": "code",
   "execution_count": 45,
   "id": "1943356b",
   "metadata": {},
   "outputs": [],
   "source": [
    "# X features affect our output Y \n",
    "# So Consumer complaints are dependent on the product/company"
   ]
  },
  {
   "cell_type": "code",
   "execution_count": 46,
   "id": "3dc58051",
   "metadata": {},
   "outputs": [],
   "source": [
    "# Y represents consumer complaint\n",
    "# X represents the product"
   ]
  },
  {
   "cell_type": "code",
   "execution_count": null,
   "id": "ed66fb57",
   "metadata": {},
   "outputs": [],
   "source": []
  },
  {
   "cell_type": "markdown",
   "id": "799f7d42",
   "metadata": {},
   "source": [
    "### Naive Bayes vs. SVM for classifying text data"
   ]
  },
  {
   "cell_type": "markdown",
   "id": "cb7e860e",
   "metadata": {},
   "source": [
    "The biggest difference between the models you're building from a \"features\" point of view is that Naive Bayes treats them as independent, whereas SVM looks at the interactions between them to a certain degree, as long as you're using a non-linear kernel (Gaussian, rbf, poly etc.). So if you have interactions, and, given your problem, you most likely do, an SVM will be better at capturing those, hence better at the classification task you want.\n",
    "\n",
    "The consensus for ML researchers and practitioners is that in almost all cases, the SVM is better than the Naive Bayes.\n",
    "\n",
    "From a theoretical point of view, it is a little bit hard to compare the two methods. One is probabilistic in nature, while the second one is geometric. However, it's quite easy to come up with a function where one has dependencies between variables which are not captured by Naive Bayes (y(a,b) = ab), so we know it isn't an universal approximator. SVMs with the proper choice of Kernel are (as are 2/3 layer neural networks) though, so from that point of view, the theory matches the practice.\n",
    "\n",
    "But in the end it comes down to performance on your problem - you basically want to choose the simplest method which will give good enough results for your problem and have a good enough performance. Spam detection has been famously solvable by just Naive Bayes, for example. Face recognition in images by a similar method enhanced with boosting etc.\n",
    "\n",
    "Support Vector Machine (SVM) is better at full-length content.\n",
    "Multinomial Naive Bayes (MNB) is better at snippets.\n",
    "MNB is stronger for snippets than for longer documents. While (Ng and Jordan, 2002) showed that NB is better than SVM/logistic regression (LR) with few training cases, MNB is also better with short documents. SVM usually beats NB when it has more than 30–50 training cases, we show that MNB is still better on snippets even with relatively large training sets (9k cases).\n",
    "\n",
    "Inshort, NBSVM seems to be an appropriate and very strong baseline for sophisticated classification text data.\n",
    "\n",
    "http://nlp.stanford.edu/pubs/sidaw12_simple_sentiment.pdf\n",
    "\n",
    "Cite: Wang, Sida, and Christopher D. Manning. \"Baselines and bigrams: Simple, good sentiment and topic classification.\" Proceedings of the 50th Annual Meeting of the Association for Computational Linguistics: Short Papers-Volume 2. Association for Computational Linguistics, 2012."
   ]
  }
 ],
 "metadata": {
  "kernelspec": {
   "display_name": "Python 3 (ipykernel)",
   "language": "python",
   "name": "python3"
  },
  "language_info": {
   "codemirror_mode": {
    "name": "ipython",
    "version": 3
   },
   "file_extension": ".py",
   "mimetype": "text/x-python",
   "name": "python",
   "nbconvert_exporter": "python",
   "pygments_lexer": "ipython3",
   "version": "3.8.13"
  }
 },
 "nbformat": 4,
 "nbformat_minor": 5
}
